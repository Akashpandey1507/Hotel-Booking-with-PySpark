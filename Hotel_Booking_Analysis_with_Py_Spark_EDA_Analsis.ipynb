{
  "cells": [
    {
      "cell_type": "markdown",
      "metadata": {
        "id": "view-in-github",
        "colab_type": "text"
      },
      "source": [
        "<a href=\"https://colab.research.google.com/github/Akashpandey1507/Hotel-Booking-with-PySpark/blob/main/Hotel_Booking_Analysis_with_Py_Spark_EDA_Analsis.ipynb\" target=\"_parent\"><img src=\"https://colab.research.google.com/assets/colab-badge.svg\" alt=\"Open In Colab\"/></a>"
      ]
    },
    {
      "cell_type": "markdown",
      "source": [
        "# Hotel Booking Demand with Economic Indicators"
      ],
      "metadata": {
        "id": "Ri9fH18iOu8o"
      }
    },
    {
      "cell_type": "markdown",
      "source": [
        "To download the datasets and all project for [Click Here](https://github.com/Akashpandey1507/Hotel-Booking-with-PySpark/)"
      ],
      "metadata": {
        "id": "dKt_RgmYWWGP"
      }
    },
    {
      "cell_type": "markdown",
      "source": [
        "# About Dataset\n",
        "* This dataset contains 119390 observations for a City Hotel and a Resort Hotel. Each observation represents a hotel booking between the 1st of July 2015 and 31st of August 2017. I have coupled each month of booking with leading economic indicators for the United States for that timeframe using the FRED.\n",
        "\n",
        "* While this dataset does not specify the location of the hotels, I have gone with the assumption of both being located in the United States for ease of applying economic data for learning purposes\n",
        "\n",
        "# Acknowledgments\n",
        "* The data is originally from the article Hotel Booking Demand Datasets, written by Nuno Antonio, Ana Almeida, and Luis Nunes for Data in Brief, Volume 22, February 2019. The original cleaned version was uploaded to Kaggle by by Thomas Mock and Antoine Bichat. I used that dataset to couple with various indicators:\n",
        "\n",
        "* GDP\n",
        "* CPI\n",
        "* CPI for Hotels\n",
        "* Fuel Prices\n",
        "* Disposable income per capita\n",
        "* Inflation\n",
        "* Consumer Sentiment\n",
        "* GINI Indicator"
      ],
      "metadata": {
        "id": "hJsZMYTBOodE"
      }
    },
    {
      "cell_type": "code",
      "source": [
        "!pip install pyspark\n",
        "#installing the pyspark"
      ],
      "metadata": {
        "colab": {
          "base_uri": "https://localhost:8080/"
        },
        "id": "6jsSQWKv6M-V",
        "outputId": "cfa57451-909f-4cbf-ebab-51d9dc922b1e"
      },
      "execution_count": 153,
      "outputs": [
        {
          "output_type": "stream",
          "name": "stdout",
          "text": [
            "Requirement already satisfied: pyspark in /usr/local/lib/python3.10/dist-packages (3.4.1)\n",
            "Requirement already satisfied: py4j==0.10.9.7 in /usr/local/lib/python3.10/dist-packages (from pyspark) (0.10.9.7)\n"
          ]
        }
      ]
    },
    {
      "cell_type": "code",
      "source": [
        "# Importing libraries\n",
        "import pyspark\n",
        "from pyspark.sql import SparkSession\n",
        "from pyspark.sql import functions as f\n",
        "import pandas as pd\n",
        "import numpy as np\n",
        "import seaborn as sns\n",
        "import matplotlib.pyplot as plt"
      ],
      "metadata": {
        "id": "9GmTmLsU7cnx"
      },
      "execution_count": 154,
      "outputs": []
    },
    {
      "cell_type": "code",
      "source": [
        "spark = SparkSession.builder.appName(\"Hotel Booking\").getOrCreate()"
      ],
      "metadata": {
        "id": "kJEvSADE7imA"
      },
      "execution_count": 155,
      "outputs": []
    },
    {
      "cell_type": "code",
      "source": [
        "file = \"/content/drive/MyDrive/Data Analysis Files/hotel_bookings_raw.csv\""
      ],
      "metadata": {
        "id": "UR1l61xQ7ijZ"
      },
      "execution_count": 156,
      "outputs": []
    },
    {
      "cell_type": "code",
      "source": [
        "original_datasets = spark.read.csv(\n",
        "    file,\n",
        "    header=True,\n",
        "    inferSchema=True\n",
        ")"
      ],
      "metadata": {
        "id": "ZmAOs9Ng7ihJ"
      },
      "execution_count": 157,
      "outputs": []
    },
    {
      "cell_type": "code",
      "source": [
        "df = original_datasets.alias(\"copy\")"
      ],
      "metadata": {
        "id": "n8e576Jz7ie4"
      },
      "execution_count": 158,
      "outputs": []
    },
    {
      "cell_type": "code",
      "source": [
        "df.show()"
      ],
      "metadata": {
        "colab": {
          "base_uri": "https://localhost:8080/"
        },
        "id": "pWFusyKgRedR",
        "outputId": "ab4640d8-26a1-4521-e541-4af80db2afcb"
      },
      "execution_count": 159,
      "outputs": [
        {
          "output_type": "stream",
          "name": "stdout",
          "text": [
            "+------------+-----------+---------+-----------------+------------------+------------------------+-------------------------+-----------------------+--------------------+------+--------+------+----+-------+--------------+--------------------+-----------------+----------------------+------------------------------+------------------+------------------+---------------+------------+-----+--------------------+-------------+------+---------------------------+-------------------------+------------------+-----------------------+------+-------+---------+-------------+---------+------+-------+---------+---------+-----------+-------+-------+\n",
            "|       hotel|is_canceled|lead_time|arrival_date_year|arrival_date_month|arrival_date_week_number|arrival_date_day_of_month|stays_in_weekend_nights|stays_in_week_nights|adults|children|babies|meal|country|market_segment|distribution_channel|is_repeated_guest|previous_cancellations|previous_bookings_not_canceled|reserved_room_type|assigned_room_type|booking_changes|deposit_type|agent|days_in_waiting_list|customer_type|   adr|required_car_parking_spaces|total_of_special_requests|reservation_status|reservation_status_date| MO_YR|CPI_AVG|INFLATION|INFLATION_CHG|CSMR_SENT|UNRATE|INTRSRT|      GDP|FUEL_PRCS| CPI_HOTELS|US_GINI|DIS_INC|\n",
            "+------------+-----------+---------+-----------------+------------------+------------------------+-------------------------+-----------------------+--------------------+------+--------+------+----+-------+--------------+--------------------+-----------------+----------------------+------------------------------+------------------+------------------+---------------+------------+-----+--------------------+-------------+------+---------------------------+-------------------------+------------------+-----------------------+------+-------+---------+-------------+---------+------+-------+---------+---------+-----------+-------+-------+\n",
            "|Resort Hotel|          0|      342|             2015|              July|                      27|                        1|                      0|                   0|     2|       0|     0|  BB|    PRT|        Direct|              Direct|                0|                     0|                             0|                 C|                 C|              3|  No Deposit| NULL|                   0|    Transient|   0.0|                          0|                        0|         Check-Out|               7/1/2015|7-2015|238.034|      1.8|            0|     93.1|   5.3|   0.75| 18306.96|      194|0.187566339|   41.2|  41355|\n",
            "|Resort Hotel|          0|      737|             2015|              July|                      27|                        1|                      0|                   0|     2|       0|     0|  BB|    PRT|        Direct|              Direct|                0|                     0|                             0|                 C|                 C|              4|  No Deposit| NULL|                   0|    Transient|   0.0|                          0|                        0|         Check-Out|               7/1/2015|7-2015|238.034|      1.8|            0|     93.1|   5.3|   0.75| 18306.96|      194|0.187566339|   41.2|  41355|\n",
            "|Resort Hotel|          0|        7|             2015|              July|                      27|                        1|                      0|                   1|     1|       0|     0|  BB|    GBR|        Direct|              Direct|                0|                     0|                             0|                 A|                 C|              0|  No Deposit| NULL|                   0|    Transient|  75.0|                          0|                        0|         Check-Out|               7/2/2015|7-2015|238.034|      1.8|            0|     93.1|   5.3|   0.75| 18306.96|      194|0.187566339|   41.2|  41355|\n",
            "|Resort Hotel|          0|       13|             2015|              July|                      27|                        1|                      0|                   1|     1|       0|     0|  BB|    GBR|     Corporate|           Corporate|                0|                     0|                             0|                 A|                 A|              0|  No Deposit|  304|                   0|    Transient|  75.0|                          0|                        0|         Check-Out|               7/2/2015|7-2015|238.034|      1.8|            0|     93.1|   5.3|   0.75| 18306.96|      194|0.187566339|   41.2|  41355|\n",
            "|Resort Hotel|          0|       14|             2015|              July|                      27|                        1|                      0|                   2|     2|       0|     0|  BB|    GBR|     Online TA|               TA/TO|                0|                     0|                             0|                 A|                 A|              0|  No Deposit|  240|                   0|    Transient|  98.0|                          0|                        1|         Check-Out|               7/3/2015|7-2015|238.034|      1.8|            0|     93.1|   5.3|   0.75| 18306.96|      194|0.187566339|   41.2|  41355|\n",
            "|Resort Hotel|          0|       14|             2015|              July|                      27|                        1|                      0|                   2|     2|       0|     0|  BB|    GBR|     Online TA|               TA/TO|                0|                     0|                             0|                 A|                 A|              0|  No Deposit|  240|                   0|    Transient|  98.0|                          0|                        1|         Check-Out|               7/3/2015|7-2015|238.034|      1.8|            0|     93.1|   5.3|   0.75| 18306.96|      194|0.187566339|   41.2|  41355|\n",
            "|Resort Hotel|          0|        0|             2015|              July|                      27|                        1|                      0|                   2|     2|       0|     0|  BB|    PRT|        Direct|              Direct|                0|                     0|                             0|                 C|                 C|              0|  No Deposit| NULL|                   0|    Transient| 107.0|                          0|                        0|         Check-Out|               7/3/2015|7-2015|238.034|      1.8|            0|     93.1|   5.3|   0.75| 18306.96|      194|0.187566339|   41.2|  41355|\n",
            "|Resort Hotel|          0|        9|             2015|              July|                      27|                        1|                      0|                   2|     2|       0|     0|  FB|    PRT|        Direct|              Direct|                0|                     0|                             0|                 C|                 C|              0|  No Deposit|  303|                   0|    Transient| 103.0|                          0|                        1|         Check-Out|               7/3/2015|7-2015|238.034|      1.8|            0|     93.1|   5.3|   0.75| 18306.96|      194|0.187566339|   41.2|  41355|\n",
            "|Resort Hotel|          1|       85|             2015|              July|                      27|                        1|                      0|                   3|     2|       0|     0|  BB|    PRT|     Online TA|               TA/TO|                0|                     0|                             0|                 A|                 A|              0|  No Deposit|  240|                   0|    Transient|  82.0|                          0|                        1|          Canceled|               5/6/2015|5-2015|237.001|      1.7|         -0.1|     90.7|   5.4|   0.75|18193.707|    202.6|0.185619641|   41.2|  41290|\n",
            "|Resort Hotel|          1|       75|             2015|              July|                      27|                        1|                      0|                   3|     2|       0|     0|  HB|    PRT| Offline TA/TO|               TA/TO|                0|                     0|                             0|                 D|                 D|              0|  No Deposit|   15|                   0|    Transient| 105.5|                          0|                        0|          Canceled|              4/22/2015|4-2015|236.222|      1.8|            0|     95.9|   5.4|   0.75|18193.707|    183.8|0.216699359|   41.2|  41248|\n",
            "|Resort Hotel|          1|       23|             2015|              July|                      27|                        1|                      0|                   4|     2|       0|     0|  BB|    PRT|     Online TA|               TA/TO|                0|                     0|                             0|                 E|                 E|              0|  No Deposit|  240|                   0|    Transient| 123.0|                          0|                        0|          Canceled|              6/23/2015|6-2015|237.657|      1.8|          0.1|     96.1|   5.6|   0.75|18193.707|    198.7| 0.18253402|   41.2|  41288|\n",
            "|Resort Hotel|          0|       35|             2015|              July|                      27|                        1|                      0|                   4|     2|       0|     0|  HB|    PRT|     Online TA|               TA/TO|                0|                     0|                             0|                 D|                 D|              0|  No Deposit|  240|                   0|    Transient| 145.0|                          0|                        0|         Check-Out|               7/5/2015|7-2015|238.034|      1.8|            0|     93.1|   5.3|   0.75| 18306.96|      194|0.187566339|   41.2|  41355|\n",
            "|Resort Hotel|          0|       68|             2015|              July|                      27|                        1|                      0|                   4|     2|       0|     0|  BB|    USA|     Online TA|               TA/TO|                0|                     0|                             0|                 D|                 E|              0|  No Deposit|  240|                   0|    Transient|  97.0|                          0|                        3|         Check-Out|               7/5/2015|7-2015|238.034|      1.8|            0|     93.1|   5.3|   0.75| 18306.96|      194|0.187566339|   41.2|  41355|\n",
            "|Resort Hotel|          0|       18|             2015|              July|                      27|                        1|                      0|                   4|     2|       1|     0|  HB|    ESP|     Online TA|               TA/TO|                0|                     0|                             0|                 G|                 G|              1|  No Deposit|  241|                   0|    Transient|154.77|                          0|                        1|         Check-Out|               7/5/2015|7-2015|238.034|      1.8|            0|     93.1|   5.3|   0.75| 18306.96|      194|0.187566339|   41.2|  41355|\n",
            "|Resort Hotel|          0|       37|             2015|              July|                      27|                        1|                      0|                   4|     2|       0|     0|  BB|    PRT|     Online TA|               TA/TO|                0|                     0|                             0|                 E|                 E|              0|  No Deposit|  241|                   0|    Transient| 94.71|                          0|                        0|         Check-Out|               7/5/2015|7-2015|238.034|      1.8|            0|     93.1|   5.3|   0.75| 18306.96|      194|0.187566339|   41.2|  41355|\n",
            "|Resort Hotel|          0|       68|             2015|              July|                      27|                        1|                      0|                   4|     2|       0|     0|  BB|    IRL|     Online TA|               TA/TO|                0|                     0|                             0|                 D|                 E|              0|  No Deposit|  240|                   0|    Transient|  97.0|                          0|                        3|         Check-Out|               7/5/2015|7-2015|238.034|      1.8|            0|     93.1|   5.3|   0.75| 18306.96|      194|0.187566339|   41.2|  41355|\n",
            "|Resort Hotel|          0|       37|             2015|              July|                      27|                        1|                      0|                   4|     2|       0|     0|  BB|    PRT| Offline TA/TO|               TA/TO|                0|                     0|                             0|                 E|                 E|              0|  No Deposit|    8|                   0|     Contract|  97.5|                          0|                        0|         Check-Out|               7/5/2015|7-2015|238.034|      1.8|            0|     93.1|   5.3|   0.75| 18306.96|      194|0.187566339|   41.2|  41355|\n",
            "|Resort Hotel|          0|       12|             2015|              July|                      27|                        1|                      0|                   1|     2|       0|     0|  BB|    IRL|     Online TA|               TA/TO|                0|                     0|                             0|                 A|                 E|              0|  No Deposit|  240|                   0|    Transient|  88.2|                          0|                        0|         Check-Out|               7/2/2015|7-2015|238.034|      1.8|            0|     93.1|   5.3|   0.75| 18306.96|      194|0.187566339|   41.2|  41355|\n",
            "|Resort Hotel|          0|        0|             2015|              July|                      27|                        1|                      0|                   1|     2|       0|     0|  BB|    FRA|     Corporate|           Corporate|                0|                     0|                             0|                 A|                 G|              0|  No Deposit| NULL|                   0|    Transient|107.42|                          0|                        0|         Check-Out|               7/2/2015|7-2015|238.034|      1.8|            0|     93.1|   5.3|   0.75| 18306.96|      194|0.187566339|   41.2|  41355|\n",
            "|Resort Hotel|          0|        7|             2015|              July|                      27|                        1|                      0|                   4|     2|       0|     0|  BB|    GBR|        Direct|              Direct|                0|                     0|                             0|                 G|                 G|              0|  No Deposit|  250|                   0|    Transient| 153.0|                          0|                        1|         Check-Out|               7/5/2015|7-2015|238.034|      1.8|            0|     93.1|   5.3|   0.75| 18306.96|      194|0.187566339|   41.2|  41355|\n",
            "+------------+-----------+---------+-----------------+------------------+------------------------+-------------------------+-----------------------+--------------------+------+--------+------+----+-------+--------------+--------------------+-----------------+----------------------+------------------------------+------------------+------------------+---------------+------------+-----+--------------------+-------------+------+---------------------------+-------------------------+------------------+-----------------------+------+-------+---------+-------------+---------+------+-------+---------+---------+-----------+-------+-------+\n",
            "only showing top 20 rows\n",
            "\n"
          ]
        }
      ]
    },
    {
      "cell_type": "code",
      "source": [
        "df.count()"
      ],
      "metadata": {
        "colab": {
          "base_uri": "https://localhost:8080/"
        },
        "id": "eY39Lx1jReaY",
        "outputId": "8eec7798-1164-4886-f137-f16b6121d73f"
      },
      "execution_count": 160,
      "outputs": [
        {
          "output_type": "execute_result",
          "data": {
            "text/plain": [
              "119390"
            ]
          },
          "metadata": {},
          "execution_count": 160
        }
      ]
    },
    {
      "cell_type": "code",
      "source": [
        "df.columns"
      ],
      "metadata": {
        "colab": {
          "base_uri": "https://localhost:8080/"
        },
        "id": "h6f0evKOReXw",
        "outputId": "e25f3b13-1d29-4a7a-8563-6370ed23a358"
      },
      "execution_count": 161,
      "outputs": [
        {
          "output_type": "execute_result",
          "data": {
            "text/plain": [
              "['hotel',\n",
              " 'is_canceled',\n",
              " 'lead_time',\n",
              " 'arrival_date_year',\n",
              " 'arrival_date_month',\n",
              " 'arrival_date_week_number',\n",
              " 'arrival_date_day_of_month',\n",
              " 'stays_in_weekend_nights',\n",
              " 'stays_in_week_nights',\n",
              " 'adults',\n",
              " 'children',\n",
              " 'babies',\n",
              " 'meal',\n",
              " 'country',\n",
              " 'market_segment',\n",
              " 'distribution_channel',\n",
              " 'is_repeated_guest',\n",
              " 'previous_cancellations',\n",
              " 'previous_bookings_not_canceled',\n",
              " 'reserved_room_type',\n",
              " 'assigned_room_type',\n",
              " 'booking_changes',\n",
              " 'deposit_type',\n",
              " 'agent',\n",
              " 'days_in_waiting_list',\n",
              " 'customer_type',\n",
              " 'adr',\n",
              " 'required_car_parking_spaces',\n",
              " 'total_of_special_requests',\n",
              " 'reservation_status',\n",
              " 'reservation_status_date',\n",
              " 'MO_YR',\n",
              " 'CPI_AVG',\n",
              " 'INFLATION',\n",
              " 'INFLATION_CHG',\n",
              " 'CSMR_SENT',\n",
              " 'UNRATE',\n",
              " 'INTRSRT',\n",
              " 'GDP',\n",
              " 'FUEL_PRCS',\n",
              " 'CPI_HOTELS',\n",
              " 'US_GINI',\n",
              " 'DIS_INC']"
            ]
          },
          "metadata": {},
          "execution_count": 161
        }
      ]
    },
    {
      "cell_type": "code",
      "source": [
        "len(df.columns)"
      ],
      "metadata": {
        "colab": {
          "base_uri": "https://localhost:8080/"
        },
        "id": "MNIJfI9KReU4",
        "outputId": "efbda94c-0d93-4dc4-a74e-7bb5eb747dcc"
      },
      "execution_count": 162,
      "outputs": [
        {
          "output_type": "execute_result",
          "data": {
            "text/plain": [
              "43"
            ]
          },
          "metadata": {},
          "execution_count": 162
        }
      ]
    },
    {
      "cell_type": "code",
      "source": [
        "print(f\"The Datasets is having {df.count()} rows and {len(df.columns)} columns.\")"
      ],
      "metadata": {
        "colab": {
          "base_uri": "https://localhost:8080/"
        },
        "id": "M9jxdldgReSZ",
        "outputId": "603710ba-6050-4016-fc59-c36d52aab635"
      },
      "execution_count": 163,
      "outputs": [
        {
          "output_type": "stream",
          "name": "stdout",
          "text": [
            "The Datasets is having 119390 rows and 43 columns.\n"
          ]
        }
      ]
    },
    {
      "cell_type": "code",
      "source": [
        "df.select([f.sum(f.col(i).isNull().cast('int')).alias(i) for i in df.columns]).show()"
      ],
      "metadata": {
        "colab": {
          "base_uri": "https://localhost:8080/"
        },
        "id": "bhOcp311RePz",
        "outputId": "fa704ff6-2edd-4bc5-ba5a-b22e9ccd95fd"
      },
      "execution_count": 164,
      "outputs": [
        {
          "output_type": "stream",
          "name": "stdout",
          "text": [
            "+-----+-----------+---------+-----------------+------------------+------------------------+-------------------------+-----------------------+--------------------+------+--------+------+----+-------+--------------+--------------------+-----------------+----------------------+------------------------------+------------------+------------------+---------------+------------+-----+--------------------+-------------+---+---------------------------+-------------------------+------------------+-----------------------+-----+-------+---------+-------------+---------+------+-------+---+---------+----------+-------+-------+\n",
            "|hotel|is_canceled|lead_time|arrival_date_year|arrival_date_month|arrival_date_week_number|arrival_date_day_of_month|stays_in_weekend_nights|stays_in_week_nights|adults|children|babies|meal|country|market_segment|distribution_channel|is_repeated_guest|previous_cancellations|previous_bookings_not_canceled|reserved_room_type|assigned_room_type|booking_changes|deposit_type|agent|days_in_waiting_list|customer_type|adr|required_car_parking_spaces|total_of_special_requests|reservation_status|reservation_status_date|MO_YR|CPI_AVG|INFLATION|INFLATION_CHG|CSMR_SENT|UNRATE|INTRSRT|GDP|FUEL_PRCS|CPI_HOTELS|US_GINI|DIS_INC|\n",
            "+-----+-----------+---------+-----------------+------------------+------------------------+-------------------------+-----------------------+--------------------+------+--------+------+----+-------+--------------+--------------------+-----------------+----------------------+------------------------------+------------------+------------------+---------------+------------+-----+--------------------+-------------+---+---------------------------+-------------------------+------------------+-----------------------+-----+-------+---------+-------------+---------+------+-------+---+---------+----------+-------+-------+\n",
            "|    0|          0|        0|                0|                 0|                       0|                        0|                      0|                   0|     0|       0|     0|   0|      0|             0|                   0|                0|                     0|                             0|                 0|                 0|              0|           0|    0|                   0|            0|  0|                          0|                        0|                 0|                      0|    0|      0|        0|            0|        0|     0|      0|  0|        0|         0|      0|      0|\n",
            "+-----+-----------+---------+-----------------+------------------+------------------------+-------------------------+-----------------------+--------------------+------+--------+------+----+-------+--------------+--------------------+-----------------+----------------------+------------------------------+------------------+------------------+---------------+------------+-----+--------------------+-------------+---+---------------------------+-------------------------+------------------+-----------------------+-----+-------+---------+-------------+---------+------+-------+---+---------+----------+-------+-------+\n",
            "\n"
          ]
        }
      ]
    },
    {
      "cell_type": "code",
      "source": [
        "df.printSchema()"
      ],
      "metadata": {
        "id": "bsyC4bzsReNA",
        "colab": {
          "base_uri": "https://localhost:8080/"
        },
        "outputId": "8d4161db-60c2-4c98-c393-9f3d18951f1e"
      },
      "execution_count": 165,
      "outputs": [
        {
          "output_type": "stream",
          "name": "stdout",
          "text": [
            "root\n",
            " |-- hotel: string (nullable = true)\n",
            " |-- is_canceled: integer (nullable = true)\n",
            " |-- lead_time: integer (nullable = true)\n",
            " |-- arrival_date_year: integer (nullable = true)\n",
            " |-- arrival_date_month: string (nullable = true)\n",
            " |-- arrival_date_week_number: integer (nullable = true)\n",
            " |-- arrival_date_day_of_month: integer (nullable = true)\n",
            " |-- stays_in_weekend_nights: integer (nullable = true)\n",
            " |-- stays_in_week_nights: integer (nullable = true)\n",
            " |-- adults: integer (nullable = true)\n",
            " |-- children: string (nullable = true)\n",
            " |-- babies: integer (nullable = true)\n",
            " |-- meal: string (nullable = true)\n",
            " |-- country: string (nullable = true)\n",
            " |-- market_segment: string (nullable = true)\n",
            " |-- distribution_channel: string (nullable = true)\n",
            " |-- is_repeated_guest: integer (nullable = true)\n",
            " |-- previous_cancellations: integer (nullable = true)\n",
            " |-- previous_bookings_not_canceled: integer (nullable = true)\n",
            " |-- reserved_room_type: string (nullable = true)\n",
            " |-- assigned_room_type: string (nullable = true)\n",
            " |-- booking_changes: integer (nullable = true)\n",
            " |-- deposit_type: string (nullable = true)\n",
            " |-- agent: string (nullable = true)\n",
            " |-- days_in_waiting_list: integer (nullable = true)\n",
            " |-- customer_type: string (nullable = true)\n",
            " |-- adr: double (nullable = true)\n",
            " |-- required_car_parking_spaces: integer (nullable = true)\n",
            " |-- total_of_special_requests: integer (nullable = true)\n",
            " |-- reservation_status: string (nullable = true)\n",
            " |-- reservation_status_date: string (nullable = true)\n",
            " |-- MO_YR: string (nullable = true)\n",
            " |-- CPI_AVG: string (nullable = true)\n",
            " |-- INFLATION: string (nullable = true)\n",
            " |-- INFLATION_CHG: string (nullable = true)\n",
            " |-- CSMR_SENT: string (nullable = true)\n",
            " |-- UNRATE: string (nullable = true)\n",
            " |-- INTRSRT: string (nullable = true)\n",
            " |-- GDP: string (nullable = true)\n",
            " |-- FUEL_PRCS: string (nullable = true)\n",
            " |-- CPI_HOTELS: string (nullable = true)\n",
            " |-- US_GINI: string (nullable = true)\n",
            " |-- DIS_INC: string (nullable = true)\n",
            "\n"
          ]
        }
      ]
    },
    {
      "cell_type": "code",
      "source": [
        "[i for i,v in df.dtypes if v in ['string']]"
      ],
      "metadata": {
        "id": "jQH7nCoDReKI",
        "colab": {
          "base_uri": "https://localhost:8080/"
        },
        "outputId": "3eac0013-bea1-4835-fac3-8184a3536f2c"
      },
      "execution_count": 166,
      "outputs": [
        {
          "output_type": "execute_result",
          "data": {
            "text/plain": [
              "['hotel',\n",
              " 'arrival_date_month',\n",
              " 'children',\n",
              " 'meal',\n",
              " 'country',\n",
              " 'market_segment',\n",
              " 'distribution_channel',\n",
              " 'reserved_room_type',\n",
              " 'assigned_room_type',\n",
              " 'deposit_type',\n",
              " 'agent',\n",
              " 'customer_type',\n",
              " 'reservation_status',\n",
              " 'reservation_status_date',\n",
              " 'MO_YR',\n",
              " 'CPI_AVG',\n",
              " 'INFLATION',\n",
              " 'INFLATION_CHG',\n",
              " 'CSMR_SENT',\n",
              " 'UNRATE',\n",
              " 'INTRSRT',\n",
              " 'GDP',\n",
              " 'FUEL_PRCS',\n",
              " 'CPI_HOTELS',\n",
              " 'US_GINI',\n",
              " 'DIS_INC']"
            ]
          },
          "metadata": {},
          "execution_count": 166
        }
      ]
    },
    {
      "cell_type": "code",
      "source": [
        "df.select([i for i,v in df.dtypes if v in ['string']]).show()"
      ],
      "metadata": {
        "id": "BY_0t-8OReHn",
        "colab": {
          "base_uri": "https://localhost:8080/"
        },
        "outputId": "8719d478-1e15-4879-8b6f-6a4d656003e8"
      },
      "execution_count": 167,
      "outputs": [
        {
          "output_type": "stream",
          "name": "stdout",
          "text": [
            "+------------+------------------+--------+----+-------+--------------+--------------------+------------------+------------------+------------+-----+-------------+------------------+-----------------------+------+-------+---------+-------------+---------+------+-------+---------+---------+-----------+-------+-------+\n",
            "|       hotel|arrival_date_month|children|meal|country|market_segment|distribution_channel|reserved_room_type|assigned_room_type|deposit_type|agent|customer_type|reservation_status|reservation_status_date| MO_YR|CPI_AVG|INFLATION|INFLATION_CHG|CSMR_SENT|UNRATE|INTRSRT|      GDP|FUEL_PRCS| CPI_HOTELS|US_GINI|DIS_INC|\n",
            "+------------+------------------+--------+----+-------+--------------+--------------------+------------------+------------------+------------+-----+-------------+------------------+-----------------------+------+-------+---------+-------------+---------+------+-------+---------+---------+-----------+-------+-------+\n",
            "|Resort Hotel|              July|       0|  BB|    PRT|        Direct|              Direct|                 C|                 C|  No Deposit| NULL|    Transient|         Check-Out|               7/1/2015|7-2015|238.034|      1.8|            0|     93.1|   5.3|   0.75| 18306.96|      194|0.187566339|   41.2|  41355|\n",
            "|Resort Hotel|              July|       0|  BB|    PRT|        Direct|              Direct|                 C|                 C|  No Deposit| NULL|    Transient|         Check-Out|               7/1/2015|7-2015|238.034|      1.8|            0|     93.1|   5.3|   0.75| 18306.96|      194|0.187566339|   41.2|  41355|\n",
            "|Resort Hotel|              July|       0|  BB|    GBR|        Direct|              Direct|                 A|                 C|  No Deposit| NULL|    Transient|         Check-Out|               7/2/2015|7-2015|238.034|      1.8|            0|     93.1|   5.3|   0.75| 18306.96|      194|0.187566339|   41.2|  41355|\n",
            "|Resort Hotel|              July|       0|  BB|    GBR|     Corporate|           Corporate|                 A|                 A|  No Deposit|  304|    Transient|         Check-Out|               7/2/2015|7-2015|238.034|      1.8|            0|     93.1|   5.3|   0.75| 18306.96|      194|0.187566339|   41.2|  41355|\n",
            "|Resort Hotel|              July|       0|  BB|    GBR|     Online TA|               TA/TO|                 A|                 A|  No Deposit|  240|    Transient|         Check-Out|               7/3/2015|7-2015|238.034|      1.8|            0|     93.1|   5.3|   0.75| 18306.96|      194|0.187566339|   41.2|  41355|\n",
            "|Resort Hotel|              July|       0|  BB|    GBR|     Online TA|               TA/TO|                 A|                 A|  No Deposit|  240|    Transient|         Check-Out|               7/3/2015|7-2015|238.034|      1.8|            0|     93.1|   5.3|   0.75| 18306.96|      194|0.187566339|   41.2|  41355|\n",
            "|Resort Hotel|              July|       0|  BB|    PRT|        Direct|              Direct|                 C|                 C|  No Deposit| NULL|    Transient|         Check-Out|               7/3/2015|7-2015|238.034|      1.8|            0|     93.1|   5.3|   0.75| 18306.96|      194|0.187566339|   41.2|  41355|\n",
            "|Resort Hotel|              July|       0|  FB|    PRT|        Direct|              Direct|                 C|                 C|  No Deposit|  303|    Transient|         Check-Out|               7/3/2015|7-2015|238.034|      1.8|            0|     93.1|   5.3|   0.75| 18306.96|      194|0.187566339|   41.2|  41355|\n",
            "|Resort Hotel|              July|       0|  BB|    PRT|     Online TA|               TA/TO|                 A|                 A|  No Deposit|  240|    Transient|          Canceled|               5/6/2015|5-2015|237.001|      1.7|         -0.1|     90.7|   5.4|   0.75|18193.707|    202.6|0.185619641|   41.2|  41290|\n",
            "|Resort Hotel|              July|       0|  HB|    PRT| Offline TA/TO|               TA/TO|                 D|                 D|  No Deposit|   15|    Transient|          Canceled|              4/22/2015|4-2015|236.222|      1.8|            0|     95.9|   5.4|   0.75|18193.707|    183.8|0.216699359|   41.2|  41248|\n",
            "|Resort Hotel|              July|       0|  BB|    PRT|     Online TA|               TA/TO|                 E|                 E|  No Deposit|  240|    Transient|          Canceled|              6/23/2015|6-2015|237.657|      1.8|          0.1|     96.1|   5.6|   0.75|18193.707|    198.7| 0.18253402|   41.2|  41288|\n",
            "|Resort Hotel|              July|       0|  HB|    PRT|     Online TA|               TA/TO|                 D|                 D|  No Deposit|  240|    Transient|         Check-Out|               7/5/2015|7-2015|238.034|      1.8|            0|     93.1|   5.3|   0.75| 18306.96|      194|0.187566339|   41.2|  41355|\n",
            "|Resort Hotel|              July|       0|  BB|    USA|     Online TA|               TA/TO|                 D|                 E|  No Deposit|  240|    Transient|         Check-Out|               7/5/2015|7-2015|238.034|      1.8|            0|     93.1|   5.3|   0.75| 18306.96|      194|0.187566339|   41.2|  41355|\n",
            "|Resort Hotel|              July|       1|  HB|    ESP|     Online TA|               TA/TO|                 G|                 G|  No Deposit|  241|    Transient|         Check-Out|               7/5/2015|7-2015|238.034|      1.8|            0|     93.1|   5.3|   0.75| 18306.96|      194|0.187566339|   41.2|  41355|\n",
            "|Resort Hotel|              July|       0|  BB|    PRT|     Online TA|               TA/TO|                 E|                 E|  No Deposit|  241|    Transient|         Check-Out|               7/5/2015|7-2015|238.034|      1.8|            0|     93.1|   5.3|   0.75| 18306.96|      194|0.187566339|   41.2|  41355|\n",
            "|Resort Hotel|              July|       0|  BB|    IRL|     Online TA|               TA/TO|                 D|                 E|  No Deposit|  240|    Transient|         Check-Out|               7/5/2015|7-2015|238.034|      1.8|            0|     93.1|   5.3|   0.75| 18306.96|      194|0.187566339|   41.2|  41355|\n",
            "|Resort Hotel|              July|       0|  BB|    PRT| Offline TA/TO|               TA/TO|                 E|                 E|  No Deposit|    8|     Contract|         Check-Out|               7/5/2015|7-2015|238.034|      1.8|            0|     93.1|   5.3|   0.75| 18306.96|      194|0.187566339|   41.2|  41355|\n",
            "|Resort Hotel|              July|       0|  BB|    IRL|     Online TA|               TA/TO|                 A|                 E|  No Deposit|  240|    Transient|         Check-Out|               7/2/2015|7-2015|238.034|      1.8|            0|     93.1|   5.3|   0.75| 18306.96|      194|0.187566339|   41.2|  41355|\n",
            "|Resort Hotel|              July|       0|  BB|    FRA|     Corporate|           Corporate|                 A|                 G|  No Deposit| NULL|    Transient|         Check-Out|               7/2/2015|7-2015|238.034|      1.8|            0|     93.1|   5.3|   0.75| 18306.96|      194|0.187566339|   41.2|  41355|\n",
            "|Resort Hotel|              July|       0|  BB|    GBR|        Direct|              Direct|                 G|                 G|  No Deposit|  250|    Transient|         Check-Out|               7/5/2015|7-2015|238.034|      1.8|            0|     93.1|   5.3|   0.75| 18306.96|      194|0.187566339|   41.2|  41355|\n",
            "+------------+------------------+--------+----+-------+--------------+--------------------+------------------+------------------+------------+-----+-------------+------------------+-----------------------+------+-------+---------+-------------+---------+------+-------+---------+---------+-----------+-------+-------+\n",
            "only showing top 20 rows\n",
            "\n"
          ]
        }
      ]
    },
    {
      "cell_type": "code",
      "source": [
        "df.groupBy(f.col('CPI_AVG')).count().show()"
      ],
      "metadata": {
        "colab": {
          "base_uri": "https://localhost:8080/"
        },
        "id": "FyPgmi6P9oVh",
        "outputId": "05a16342-cffe-4b10-c8e3-6c32dc6b8d63"
      },
      "execution_count": 168,
      "outputs": [
        {
          "output_type": "stream",
          "name": "stdout",
          "text": [
            "+-------+-----+\n",
            "|CPI_AVG|count|\n",
            "+-------+-----+\n",
            "|243.892| 4826|\n",
            "|244.193| 4634|\n",
            "|244.243| 4038|\n",
            "|238.034| 3615|\n",
            "|237.733| 5742|\n",
            "|237.652| 4482|\n",
            "|237.001|  275|\n",
            "|244.006| 4858|\n",
            "|238.017| 3077|\n",
            "|237.761| 3062|\n",
            "|245.183| 3417|\n",
            "|236.222|  151|\n",
            "|235.342|   44|\n",
            "|240.222| 4552|\n",
            "|244.004| 5006|\n",
            "|242.026| 5021|\n",
            "|244.163| 4060|\n",
            "|241.176| 4993|\n",
            "|242.637| 4338|\n",
            "|246.435|  393|\n",
            "+-------+-----+\n",
            "only showing top 20 rows\n",
            "\n"
          ]
        }
      ]
    },
    {
      "cell_type": "code",
      "source": [
        "df = df.withColumn(\"CPI_AVG\", f.col(\"CPI_AVG\").cast(\"double\"))\n",
        "df = df.withColumn(\"INFLATION_CHG\", f.col(\"INFLATION_CHG\").cast(\"double\"))\n",
        "df = df.withColumn(\"CSMR_SENT\", f.col(\"CSMR_SENT\").cast(\"double\"))\n",
        "df = df.withColumn(\"UNRATE\", f.col(\"UNRATE\").cast(\"double\"))\n",
        "df = df.withColumn(\"INTRSRT\", f.col(\"INTRSRT\").cast(\"double\"))\n",
        "df = df.withColumn(\"GDP\", f.col(\"GDP\").cast(\"double\"))\n",
        "df = df.withColumn(\"FUEL_PRCS\", f.col(\"FUEL_PRCS\").cast(\"double\"))\n",
        "df = df.withColumn(\"CPI_HOTELS\", f.col(\"CPI_HOTELS\").cast(\"double\"))\n",
        "df = df.withColumn(\"US_GINI\", f.col(\"US_GINI\").cast(\"double\"))\n",
        "df = df.withColumn(\"DIS_INC\", f.col(\"DIS_INC\").cast(\"double\"))\n",
        "df = df.withColumn(\"INFLATION\", f.col(\"INFLATION\").cast(\"double\"))\n",
        "df = df.withColumn(\"children\", f.col(\"children\").cast(\"double\"))\n",
        "df = df.withColumn(\"agent\", (f.when(f.col(\"agent\")== \"NULL\", \"0\").otherwise(f.col(\"agent\"))).cast('double'))"
      ],
      "metadata": {
        "id": "fC_fSX1h9arv"
      },
      "execution_count": 169,
      "outputs": []
    },
    {
      "cell_type": "code",
      "source": [
        "[i for i,v in df.dtypes if v in ['string']]"
      ],
      "metadata": {
        "id": "Mshw6Nz9ReFP",
        "colab": {
          "base_uri": "https://localhost:8080/"
        },
        "outputId": "05413705-d07f-479c-c5b2-9c7841080980"
      },
      "execution_count": 170,
      "outputs": [
        {
          "output_type": "execute_result",
          "data": {
            "text/plain": [
              "['hotel',\n",
              " 'arrival_date_month',\n",
              " 'meal',\n",
              " 'country',\n",
              " 'market_segment',\n",
              " 'distribution_channel',\n",
              " 'reserved_room_type',\n",
              " 'assigned_room_type',\n",
              " 'deposit_type',\n",
              " 'customer_type',\n",
              " 'reservation_status',\n",
              " 'reservation_status_date',\n",
              " 'MO_YR']"
            ]
          },
          "metadata": {},
          "execution_count": 170
        }
      ]
    },
    {
      "cell_type": "code",
      "source": [
        "df.select([i for i,v in df.dtypes if v in ['string']]).show()"
      ],
      "metadata": {
        "id": "F79G6JHZReC3",
        "colab": {
          "base_uri": "https://localhost:8080/"
        },
        "outputId": "e4f20664-547d-452a-ad64-d14471b5bd47"
      },
      "execution_count": 171,
      "outputs": [
        {
          "output_type": "stream",
          "name": "stdout",
          "text": [
            "+------------+------------------+----+-------+--------------+--------------------+------------------+------------------+------------+-------------+------------------+-----------------------+------+\n",
            "|       hotel|arrival_date_month|meal|country|market_segment|distribution_channel|reserved_room_type|assigned_room_type|deposit_type|customer_type|reservation_status|reservation_status_date| MO_YR|\n",
            "+------------+------------------+----+-------+--------------+--------------------+------------------+------------------+------------+-------------+------------------+-----------------------+------+\n",
            "|Resort Hotel|              July|  BB|    PRT|        Direct|              Direct|                 C|                 C|  No Deposit|    Transient|         Check-Out|               7/1/2015|7-2015|\n",
            "|Resort Hotel|              July|  BB|    PRT|        Direct|              Direct|                 C|                 C|  No Deposit|    Transient|         Check-Out|               7/1/2015|7-2015|\n",
            "|Resort Hotel|              July|  BB|    GBR|        Direct|              Direct|                 A|                 C|  No Deposit|    Transient|         Check-Out|               7/2/2015|7-2015|\n",
            "|Resort Hotel|              July|  BB|    GBR|     Corporate|           Corporate|                 A|                 A|  No Deposit|    Transient|         Check-Out|               7/2/2015|7-2015|\n",
            "|Resort Hotel|              July|  BB|    GBR|     Online TA|               TA/TO|                 A|                 A|  No Deposit|    Transient|         Check-Out|               7/3/2015|7-2015|\n",
            "|Resort Hotel|              July|  BB|    GBR|     Online TA|               TA/TO|                 A|                 A|  No Deposit|    Transient|         Check-Out|               7/3/2015|7-2015|\n",
            "|Resort Hotel|              July|  BB|    PRT|        Direct|              Direct|                 C|                 C|  No Deposit|    Transient|         Check-Out|               7/3/2015|7-2015|\n",
            "|Resort Hotel|              July|  FB|    PRT|        Direct|              Direct|                 C|                 C|  No Deposit|    Transient|         Check-Out|               7/3/2015|7-2015|\n",
            "|Resort Hotel|              July|  BB|    PRT|     Online TA|               TA/TO|                 A|                 A|  No Deposit|    Transient|          Canceled|               5/6/2015|5-2015|\n",
            "|Resort Hotel|              July|  HB|    PRT| Offline TA/TO|               TA/TO|                 D|                 D|  No Deposit|    Transient|          Canceled|              4/22/2015|4-2015|\n",
            "|Resort Hotel|              July|  BB|    PRT|     Online TA|               TA/TO|                 E|                 E|  No Deposit|    Transient|          Canceled|              6/23/2015|6-2015|\n",
            "|Resort Hotel|              July|  HB|    PRT|     Online TA|               TA/TO|                 D|                 D|  No Deposit|    Transient|         Check-Out|               7/5/2015|7-2015|\n",
            "|Resort Hotel|              July|  BB|    USA|     Online TA|               TA/TO|                 D|                 E|  No Deposit|    Transient|         Check-Out|               7/5/2015|7-2015|\n",
            "|Resort Hotel|              July|  HB|    ESP|     Online TA|               TA/TO|                 G|                 G|  No Deposit|    Transient|         Check-Out|               7/5/2015|7-2015|\n",
            "|Resort Hotel|              July|  BB|    PRT|     Online TA|               TA/TO|                 E|                 E|  No Deposit|    Transient|         Check-Out|               7/5/2015|7-2015|\n",
            "|Resort Hotel|              July|  BB|    IRL|     Online TA|               TA/TO|                 D|                 E|  No Deposit|    Transient|         Check-Out|               7/5/2015|7-2015|\n",
            "|Resort Hotel|              July|  BB|    PRT| Offline TA/TO|               TA/TO|                 E|                 E|  No Deposit|     Contract|         Check-Out|               7/5/2015|7-2015|\n",
            "|Resort Hotel|              July|  BB|    IRL|     Online TA|               TA/TO|                 A|                 E|  No Deposit|    Transient|         Check-Out|               7/2/2015|7-2015|\n",
            "|Resort Hotel|              July|  BB|    FRA|     Corporate|           Corporate|                 A|                 G|  No Deposit|    Transient|         Check-Out|               7/2/2015|7-2015|\n",
            "|Resort Hotel|              July|  BB|    GBR|        Direct|              Direct|                 G|                 G|  No Deposit|    Transient|         Check-Out|               7/5/2015|7-2015|\n",
            "+------------+------------------+----+-------+--------------+--------------------+------------------+------------------+------------+-------------+------------------+-----------------------+------+\n",
            "only showing top 20 rows\n",
            "\n"
          ]
        }
      ]
    },
    {
      "cell_type": "code",
      "source": [
        "from pyspark.sql import types as t"
      ],
      "metadata": {
        "id": "ivRJjZqj_pd0"
      },
      "execution_count": 172,
      "outputs": []
    },
    {
      "cell_type": "code",
      "source": [
        "[i for i,v in df.dtypes if v in ['string']]"
      ],
      "metadata": {
        "id": "ib6JUllLReAI",
        "colab": {
          "base_uri": "https://localhost:8080/"
        },
        "outputId": "0bdaf80e-167a-4a1b-cdf1-d76aa7bed04c"
      },
      "execution_count": 173,
      "outputs": [
        {
          "output_type": "execute_result",
          "data": {
            "text/plain": [
              "['hotel',\n",
              " 'arrival_date_month',\n",
              " 'meal',\n",
              " 'country',\n",
              " 'market_segment',\n",
              " 'distribution_channel',\n",
              " 'reserved_room_type',\n",
              " 'assigned_room_type',\n",
              " 'deposit_type',\n",
              " 'customer_type',\n",
              " 'reservation_status',\n",
              " 'reservation_status_date',\n",
              " 'MO_YR']"
            ]
          },
          "metadata": {},
          "execution_count": 173
        }
      ]
    },
    {
      "cell_type": "code",
      "source": [
        "df.select([i for i,v in df.dtypes if v in ['string']]).show()"
      ],
      "metadata": {
        "id": "uFMqcc34Rd63",
        "colab": {
          "base_uri": "https://localhost:8080/"
        },
        "outputId": "c9a59edd-a9d2-4929-ef1a-7b8e5f9a65b3"
      },
      "execution_count": 174,
      "outputs": [
        {
          "output_type": "stream",
          "name": "stdout",
          "text": [
            "+------------+------------------+----+-------+--------------+--------------------+------------------+------------------+------------+-------------+------------------+-----------------------+------+\n",
            "|       hotel|arrival_date_month|meal|country|market_segment|distribution_channel|reserved_room_type|assigned_room_type|deposit_type|customer_type|reservation_status|reservation_status_date| MO_YR|\n",
            "+------------+------------------+----+-------+--------------+--------------------+------------------+------------------+------------+-------------+------------------+-----------------------+------+\n",
            "|Resort Hotel|              July|  BB|    PRT|        Direct|              Direct|                 C|                 C|  No Deposit|    Transient|         Check-Out|               7/1/2015|7-2015|\n",
            "|Resort Hotel|              July|  BB|    PRT|        Direct|              Direct|                 C|                 C|  No Deposit|    Transient|         Check-Out|               7/1/2015|7-2015|\n",
            "|Resort Hotel|              July|  BB|    GBR|        Direct|              Direct|                 A|                 C|  No Deposit|    Transient|         Check-Out|               7/2/2015|7-2015|\n",
            "|Resort Hotel|              July|  BB|    GBR|     Corporate|           Corporate|                 A|                 A|  No Deposit|    Transient|         Check-Out|               7/2/2015|7-2015|\n",
            "|Resort Hotel|              July|  BB|    GBR|     Online TA|               TA/TO|                 A|                 A|  No Deposit|    Transient|         Check-Out|               7/3/2015|7-2015|\n",
            "|Resort Hotel|              July|  BB|    GBR|     Online TA|               TA/TO|                 A|                 A|  No Deposit|    Transient|         Check-Out|               7/3/2015|7-2015|\n",
            "|Resort Hotel|              July|  BB|    PRT|        Direct|              Direct|                 C|                 C|  No Deposit|    Transient|         Check-Out|               7/3/2015|7-2015|\n",
            "|Resort Hotel|              July|  FB|    PRT|        Direct|              Direct|                 C|                 C|  No Deposit|    Transient|         Check-Out|               7/3/2015|7-2015|\n",
            "|Resort Hotel|              July|  BB|    PRT|     Online TA|               TA/TO|                 A|                 A|  No Deposit|    Transient|          Canceled|               5/6/2015|5-2015|\n",
            "|Resort Hotel|              July|  HB|    PRT| Offline TA/TO|               TA/TO|                 D|                 D|  No Deposit|    Transient|          Canceled|              4/22/2015|4-2015|\n",
            "|Resort Hotel|              July|  BB|    PRT|     Online TA|               TA/TO|                 E|                 E|  No Deposit|    Transient|          Canceled|              6/23/2015|6-2015|\n",
            "|Resort Hotel|              July|  HB|    PRT|     Online TA|               TA/TO|                 D|                 D|  No Deposit|    Transient|         Check-Out|               7/5/2015|7-2015|\n",
            "|Resort Hotel|              July|  BB|    USA|     Online TA|               TA/TO|                 D|                 E|  No Deposit|    Transient|         Check-Out|               7/5/2015|7-2015|\n",
            "|Resort Hotel|              July|  HB|    ESP|     Online TA|               TA/TO|                 G|                 G|  No Deposit|    Transient|         Check-Out|               7/5/2015|7-2015|\n",
            "|Resort Hotel|              July|  BB|    PRT|     Online TA|               TA/TO|                 E|                 E|  No Deposit|    Transient|         Check-Out|               7/5/2015|7-2015|\n",
            "|Resort Hotel|              July|  BB|    IRL|     Online TA|               TA/TO|                 D|                 E|  No Deposit|    Transient|         Check-Out|               7/5/2015|7-2015|\n",
            "|Resort Hotel|              July|  BB|    PRT| Offline TA/TO|               TA/TO|                 E|                 E|  No Deposit|     Contract|         Check-Out|               7/5/2015|7-2015|\n",
            "|Resort Hotel|              July|  BB|    IRL|     Online TA|               TA/TO|                 A|                 E|  No Deposit|    Transient|         Check-Out|               7/2/2015|7-2015|\n",
            "|Resort Hotel|              July|  BB|    FRA|     Corporate|           Corporate|                 A|                 G|  No Deposit|    Transient|         Check-Out|               7/2/2015|7-2015|\n",
            "|Resort Hotel|              July|  BB|    GBR|        Direct|              Direct|                 G|                 G|  No Deposit|    Transient|         Check-Out|               7/5/2015|7-2015|\n",
            "+------------+------------------+----+-------+--------------+--------------------+------------------+------------------+------------+-------------+------------------+-----------------------+------+\n",
            "only showing top 20 rows\n",
            "\n"
          ]
        }
      ]
    },
    {
      "cell_type": "code",
      "source": [
        "df.select(\"reservation_status_date\").show()"
      ],
      "metadata": {
        "id": "88G__YEiRd4X",
        "colab": {
          "base_uri": "https://localhost:8080/"
        },
        "outputId": "e85b53f3-249d-4042-c3d4-a7d3361c9a1e"
      },
      "execution_count": 175,
      "outputs": [
        {
          "output_type": "stream",
          "name": "stdout",
          "text": [
            "+-----------------------+\n",
            "|reservation_status_date|\n",
            "+-----------------------+\n",
            "|               7/1/2015|\n",
            "|               7/1/2015|\n",
            "|               7/2/2015|\n",
            "|               7/2/2015|\n",
            "|               7/3/2015|\n",
            "|               7/3/2015|\n",
            "|               7/3/2015|\n",
            "|               7/3/2015|\n",
            "|               5/6/2015|\n",
            "|              4/22/2015|\n",
            "|              6/23/2015|\n",
            "|               7/5/2015|\n",
            "|               7/5/2015|\n",
            "|               7/5/2015|\n",
            "|               7/5/2015|\n",
            "|               7/5/2015|\n",
            "|               7/5/2015|\n",
            "|               7/2/2015|\n",
            "|               7/2/2015|\n",
            "|               7/5/2015|\n",
            "+-----------------------+\n",
            "only showing top 20 rows\n",
            "\n"
          ]
        }
      ]
    },
    {
      "cell_type": "code",
      "source": [
        "df.groupBy(f.col(\"reservation_status_date\")).count().show()"
      ],
      "metadata": {
        "id": "L55R1eQIRd15",
        "colab": {
          "base_uri": "https://localhost:8080/"
        },
        "outputId": "4a571df8-16f2-4199-9c97-abb0b96b0f2c"
      },
      "execution_count": 176,
      "outputs": [
        {
          "output_type": "stream",
          "name": "stdout",
          "text": [
            "+-----------------------+-----+\n",
            "|reservation_status_date|count|\n",
            "+-----------------------+-----+\n",
            "|             11/14/2015|   80|\n",
            "|              6/29/2016|  113|\n",
            "|              7/31/2016|  125|\n",
            "|              8/21/2016|  139|\n",
            "|              12/8/2016|  153|\n",
            "|              3/20/2017|  194|\n",
            "|              2/27/2015|    1|\n",
            "|              8/31/2015|  116|\n",
            "|               8/9/2016|  121|\n",
            "|             11/24/2016|  172|\n",
            "|               5/7/2017|  146|\n",
            "|             11/26/2015|  135|\n",
            "|              8/28/2016|  134|\n",
            "|              2/14/2017|  121|\n",
            "|              4/10/2017|  164|\n",
            "|              6/11/2016|   89|\n",
            "|              8/31/2016|  155|\n",
            "|             11/30/2016|  137|\n",
            "|              7/20/2017|  104|\n",
            "|              6/15/2015|   53|\n",
            "+-----------------------+-----+\n",
            "only showing top 20 rows\n",
            "\n"
          ]
        }
      ]
    },
    {
      "cell_type": "code",
      "source": [
        "df = df.withColumn(\"reservation_status_date\", f.to_date(df[\"reservation_status_date\"], \"M/d/yyyy\"))"
      ],
      "metadata": {
        "id": "3v-WrIc8RdzQ"
      },
      "execution_count": 177,
      "outputs": []
    },
    {
      "cell_type": "code",
      "source": [
        "df.select(\"reservation_status_date\").show()"
      ],
      "metadata": {
        "id": "UdZNRkCuRdw4",
        "colab": {
          "base_uri": "https://localhost:8080/"
        },
        "outputId": "cf2783e8-943c-4bc9-daff-5c6ce3a966d2"
      },
      "execution_count": 178,
      "outputs": [
        {
          "output_type": "stream",
          "name": "stdout",
          "text": [
            "+-----------------------+\n",
            "|reservation_status_date|\n",
            "+-----------------------+\n",
            "|             2015-07-01|\n",
            "|             2015-07-01|\n",
            "|             2015-07-02|\n",
            "|             2015-07-02|\n",
            "|             2015-07-03|\n",
            "|             2015-07-03|\n",
            "|             2015-07-03|\n",
            "|             2015-07-03|\n",
            "|             2015-05-06|\n",
            "|             2015-04-22|\n",
            "|             2015-06-23|\n",
            "|             2015-07-05|\n",
            "|             2015-07-05|\n",
            "|             2015-07-05|\n",
            "|             2015-07-05|\n",
            "|             2015-07-05|\n",
            "|             2015-07-05|\n",
            "|             2015-07-02|\n",
            "|             2015-07-02|\n",
            "|             2015-07-05|\n",
            "+-----------------------+\n",
            "only showing top 20 rows\n",
            "\n"
          ]
        }
      ]
    },
    {
      "cell_type": "code",
      "source": [
        "[i for i,v in df.dtypes if v in ['string']]"
      ],
      "metadata": {
        "colab": {
          "base_uri": "https://localhost:8080/"
        },
        "id": "0sKJoIOiRBdf",
        "outputId": "44bb4fe4-41d7-4533-dab5-634825c59d68"
      },
      "execution_count": 179,
      "outputs": [
        {
          "output_type": "execute_result",
          "data": {
            "text/plain": [
              "['hotel',\n",
              " 'arrival_date_month',\n",
              " 'meal',\n",
              " 'country',\n",
              " 'market_segment',\n",
              " 'distribution_channel',\n",
              " 'reserved_room_type',\n",
              " 'assigned_room_type',\n",
              " 'deposit_type',\n",
              " 'customer_type',\n",
              " 'reservation_status',\n",
              " 'MO_YR']"
            ]
          },
          "metadata": {},
          "execution_count": 179
        }
      ]
    },
    {
      "cell_type": "code",
      "source": [
        "df.select([i for i,v in df.dtypes if v in ['string']]).show()"
      ],
      "metadata": {
        "id": "U-NK2-ku7icR",
        "colab": {
          "base_uri": "https://localhost:8080/"
        },
        "outputId": "f19af658-ba66-4aa3-e53e-a5ff451fa403"
      },
      "execution_count": 180,
      "outputs": [
        {
          "output_type": "stream",
          "name": "stdout",
          "text": [
            "+------------+------------------+----+-------+--------------+--------------------+------------------+------------------+------------+-------------+------------------+------+\n",
            "|       hotel|arrival_date_month|meal|country|market_segment|distribution_channel|reserved_room_type|assigned_room_type|deposit_type|customer_type|reservation_status| MO_YR|\n",
            "+------------+------------------+----+-------+--------------+--------------------+------------------+------------------+------------+-------------+------------------+------+\n",
            "|Resort Hotel|              July|  BB|    PRT|        Direct|              Direct|                 C|                 C|  No Deposit|    Transient|         Check-Out|7-2015|\n",
            "|Resort Hotel|              July|  BB|    PRT|        Direct|              Direct|                 C|                 C|  No Deposit|    Transient|         Check-Out|7-2015|\n",
            "|Resort Hotel|              July|  BB|    GBR|        Direct|              Direct|                 A|                 C|  No Deposit|    Transient|         Check-Out|7-2015|\n",
            "|Resort Hotel|              July|  BB|    GBR|     Corporate|           Corporate|                 A|                 A|  No Deposit|    Transient|         Check-Out|7-2015|\n",
            "|Resort Hotel|              July|  BB|    GBR|     Online TA|               TA/TO|                 A|                 A|  No Deposit|    Transient|         Check-Out|7-2015|\n",
            "|Resort Hotel|              July|  BB|    GBR|     Online TA|               TA/TO|                 A|                 A|  No Deposit|    Transient|         Check-Out|7-2015|\n",
            "|Resort Hotel|              July|  BB|    PRT|        Direct|              Direct|                 C|                 C|  No Deposit|    Transient|         Check-Out|7-2015|\n",
            "|Resort Hotel|              July|  FB|    PRT|        Direct|              Direct|                 C|                 C|  No Deposit|    Transient|         Check-Out|7-2015|\n",
            "|Resort Hotel|              July|  BB|    PRT|     Online TA|               TA/TO|                 A|                 A|  No Deposit|    Transient|          Canceled|5-2015|\n",
            "|Resort Hotel|              July|  HB|    PRT| Offline TA/TO|               TA/TO|                 D|                 D|  No Deposit|    Transient|          Canceled|4-2015|\n",
            "|Resort Hotel|              July|  BB|    PRT|     Online TA|               TA/TO|                 E|                 E|  No Deposit|    Transient|          Canceled|6-2015|\n",
            "|Resort Hotel|              July|  HB|    PRT|     Online TA|               TA/TO|                 D|                 D|  No Deposit|    Transient|         Check-Out|7-2015|\n",
            "|Resort Hotel|              July|  BB|    USA|     Online TA|               TA/TO|                 D|                 E|  No Deposit|    Transient|         Check-Out|7-2015|\n",
            "|Resort Hotel|              July|  HB|    ESP|     Online TA|               TA/TO|                 G|                 G|  No Deposit|    Transient|         Check-Out|7-2015|\n",
            "|Resort Hotel|              July|  BB|    PRT|     Online TA|               TA/TO|                 E|                 E|  No Deposit|    Transient|         Check-Out|7-2015|\n",
            "|Resort Hotel|              July|  BB|    IRL|     Online TA|               TA/TO|                 D|                 E|  No Deposit|    Transient|         Check-Out|7-2015|\n",
            "|Resort Hotel|              July|  BB|    PRT| Offline TA/TO|               TA/TO|                 E|                 E|  No Deposit|     Contract|         Check-Out|7-2015|\n",
            "|Resort Hotel|              July|  BB|    IRL|     Online TA|               TA/TO|                 A|                 E|  No Deposit|    Transient|         Check-Out|7-2015|\n",
            "|Resort Hotel|              July|  BB|    FRA|     Corporate|           Corporate|                 A|                 G|  No Deposit|    Transient|         Check-Out|7-2015|\n",
            "|Resort Hotel|              July|  BB|    GBR|        Direct|              Direct|                 G|                 G|  No Deposit|    Transient|         Check-Out|7-2015|\n",
            "+------------+------------------+----+-------+--------------+--------------------+------------------+------------------+------------+-------------+------------------+------+\n",
            "only showing top 20 rows\n",
            "\n"
          ]
        }
      ]
    },
    {
      "cell_type": "code",
      "source": [
        "[i for i,v in df.dtypes if v in ['int', 'double']]"
      ],
      "metadata": {
        "colab": {
          "base_uri": "https://localhost:8080/"
        },
        "id": "CjxxV4yFRIJv",
        "outputId": "2ed86e87-e244-4e2c-e1c8-3954a4c5553c"
      },
      "execution_count": 181,
      "outputs": [
        {
          "output_type": "execute_result",
          "data": {
            "text/plain": [
              "['is_canceled',\n",
              " 'lead_time',\n",
              " 'arrival_date_year',\n",
              " 'arrival_date_week_number',\n",
              " 'arrival_date_day_of_month',\n",
              " 'stays_in_weekend_nights',\n",
              " 'stays_in_week_nights',\n",
              " 'adults',\n",
              " 'children',\n",
              " 'babies',\n",
              " 'is_repeated_guest',\n",
              " 'previous_cancellations',\n",
              " 'previous_bookings_not_canceled',\n",
              " 'booking_changes',\n",
              " 'agent',\n",
              " 'days_in_waiting_list',\n",
              " 'adr',\n",
              " 'required_car_parking_spaces',\n",
              " 'total_of_special_requests',\n",
              " 'CPI_AVG',\n",
              " 'INFLATION',\n",
              " 'INFLATION_CHG',\n",
              " 'CSMR_SENT',\n",
              " 'UNRATE',\n",
              " 'INTRSRT',\n",
              " 'GDP',\n",
              " 'FUEL_PRCS',\n",
              " 'CPI_HOTELS',\n",
              " 'US_GINI',\n",
              " 'DIS_INC']"
            ]
          },
          "metadata": {},
          "execution_count": 181
        }
      ]
    },
    {
      "cell_type": "code",
      "source": [
        "df.select([i for i,v in df.dtypes if v in ['int', 'double']]).show()"
      ],
      "metadata": {
        "colab": {
          "base_uri": "https://localhost:8080/"
        },
        "id": "9QdhlttSRIEg",
        "outputId": "89160ecc-8772-4418-ead4-93d9469866d7"
      },
      "execution_count": 182,
      "outputs": [
        {
          "output_type": "stream",
          "name": "stdout",
          "text": [
            "+-----------+---------+-----------------+------------------------+-------------------------+-----------------------+--------------------+------+--------+------+-----------------+----------------------+------------------------------+---------------+-----+--------------------+------+---------------------------+-------------------------+-------+---------+-------------+---------+------+-------+---------+---------+-----------+-------+-------+\n",
            "|is_canceled|lead_time|arrival_date_year|arrival_date_week_number|arrival_date_day_of_month|stays_in_weekend_nights|stays_in_week_nights|adults|children|babies|is_repeated_guest|previous_cancellations|previous_bookings_not_canceled|booking_changes|agent|days_in_waiting_list|   adr|required_car_parking_spaces|total_of_special_requests|CPI_AVG|INFLATION|INFLATION_CHG|CSMR_SENT|UNRATE|INTRSRT|      GDP|FUEL_PRCS| CPI_HOTELS|US_GINI|DIS_INC|\n",
            "+-----------+---------+-----------------+------------------------+-------------------------+-----------------------+--------------------+------+--------+------+-----------------+----------------------+------------------------------+---------------+-----+--------------------+------+---------------------------+-------------------------+-------+---------+-------------+---------+------+-------+---------+---------+-----------+-------+-------+\n",
            "|          0|      342|             2015|                      27|                        1|                      0|                   0|     2|     0.0|     0|                0|                     0|                             0|              3|  0.0|                   0|   0.0|                          0|                        0|238.034|      1.8|          0.0|     93.1|   5.3|   0.75| 18306.96|    194.0|0.187566339|   41.2|41355.0|\n",
            "|          0|      737|             2015|                      27|                        1|                      0|                   0|     2|     0.0|     0|                0|                     0|                             0|              4|  0.0|                   0|   0.0|                          0|                        0|238.034|      1.8|          0.0|     93.1|   5.3|   0.75| 18306.96|    194.0|0.187566339|   41.2|41355.0|\n",
            "|          0|        7|             2015|                      27|                        1|                      0|                   1|     1|     0.0|     0|                0|                     0|                             0|              0|  0.0|                   0|  75.0|                          0|                        0|238.034|      1.8|          0.0|     93.1|   5.3|   0.75| 18306.96|    194.0|0.187566339|   41.2|41355.0|\n",
            "|          0|       13|             2015|                      27|                        1|                      0|                   1|     1|     0.0|     0|                0|                     0|                             0|              0|304.0|                   0|  75.0|                          0|                        0|238.034|      1.8|          0.0|     93.1|   5.3|   0.75| 18306.96|    194.0|0.187566339|   41.2|41355.0|\n",
            "|          0|       14|             2015|                      27|                        1|                      0|                   2|     2|     0.0|     0|                0|                     0|                             0|              0|240.0|                   0|  98.0|                          0|                        1|238.034|      1.8|          0.0|     93.1|   5.3|   0.75| 18306.96|    194.0|0.187566339|   41.2|41355.0|\n",
            "|          0|       14|             2015|                      27|                        1|                      0|                   2|     2|     0.0|     0|                0|                     0|                             0|              0|240.0|                   0|  98.0|                          0|                        1|238.034|      1.8|          0.0|     93.1|   5.3|   0.75| 18306.96|    194.0|0.187566339|   41.2|41355.0|\n",
            "|          0|        0|             2015|                      27|                        1|                      0|                   2|     2|     0.0|     0|                0|                     0|                             0|              0|  0.0|                   0| 107.0|                          0|                        0|238.034|      1.8|          0.0|     93.1|   5.3|   0.75| 18306.96|    194.0|0.187566339|   41.2|41355.0|\n",
            "|          0|        9|             2015|                      27|                        1|                      0|                   2|     2|     0.0|     0|                0|                     0|                             0|              0|303.0|                   0| 103.0|                          0|                        1|238.034|      1.8|          0.0|     93.1|   5.3|   0.75| 18306.96|    194.0|0.187566339|   41.2|41355.0|\n",
            "|          1|       85|             2015|                      27|                        1|                      0|                   3|     2|     0.0|     0|                0|                     0|                             0|              0|240.0|                   0|  82.0|                          0|                        1|237.001|      1.7|         -0.1|     90.7|   5.4|   0.75|18193.707|    202.6|0.185619641|   41.2|41290.0|\n",
            "|          1|       75|             2015|                      27|                        1|                      0|                   3|     2|     0.0|     0|                0|                     0|                             0|              0| 15.0|                   0| 105.5|                          0|                        0|236.222|      1.8|          0.0|     95.9|   5.4|   0.75|18193.707|    183.8|0.216699359|   41.2|41248.0|\n",
            "|          1|       23|             2015|                      27|                        1|                      0|                   4|     2|     0.0|     0|                0|                     0|                             0|              0|240.0|                   0| 123.0|                          0|                        0|237.657|      1.8|          0.1|     96.1|   5.6|   0.75|18193.707|    198.7| 0.18253402|   41.2|41288.0|\n",
            "|          0|       35|             2015|                      27|                        1|                      0|                   4|     2|     0.0|     0|                0|                     0|                             0|              0|240.0|                   0| 145.0|                          0|                        0|238.034|      1.8|          0.0|     93.1|   5.3|   0.75| 18306.96|    194.0|0.187566339|   41.2|41355.0|\n",
            "|          0|       68|             2015|                      27|                        1|                      0|                   4|     2|     0.0|     0|                0|                     0|                             0|              0|240.0|                   0|  97.0|                          0|                        3|238.034|      1.8|          0.0|     93.1|   5.3|   0.75| 18306.96|    194.0|0.187566339|   41.2|41355.0|\n",
            "|          0|       18|             2015|                      27|                        1|                      0|                   4|     2|     1.0|     0|                0|                     0|                             0|              1|241.0|                   0|154.77|                          0|                        1|238.034|      1.8|          0.0|     93.1|   5.3|   0.75| 18306.96|    194.0|0.187566339|   41.2|41355.0|\n",
            "|          0|       37|             2015|                      27|                        1|                      0|                   4|     2|     0.0|     0|                0|                     0|                             0|              0|241.0|                   0| 94.71|                          0|                        0|238.034|      1.8|          0.0|     93.1|   5.3|   0.75| 18306.96|    194.0|0.187566339|   41.2|41355.0|\n",
            "|          0|       68|             2015|                      27|                        1|                      0|                   4|     2|     0.0|     0|                0|                     0|                             0|              0|240.0|                   0|  97.0|                          0|                        3|238.034|      1.8|          0.0|     93.1|   5.3|   0.75| 18306.96|    194.0|0.187566339|   41.2|41355.0|\n",
            "|          0|       37|             2015|                      27|                        1|                      0|                   4|     2|     0.0|     0|                0|                     0|                             0|              0|  8.0|                   0|  97.5|                          0|                        0|238.034|      1.8|          0.0|     93.1|   5.3|   0.75| 18306.96|    194.0|0.187566339|   41.2|41355.0|\n",
            "|          0|       12|             2015|                      27|                        1|                      0|                   1|     2|     0.0|     0|                0|                     0|                             0|              0|240.0|                   0|  88.2|                          0|                        0|238.034|      1.8|          0.0|     93.1|   5.3|   0.75| 18306.96|    194.0|0.187566339|   41.2|41355.0|\n",
            "|          0|        0|             2015|                      27|                        1|                      0|                   1|     2|     0.0|     0|                0|                     0|                             0|              0|  0.0|                   0|107.42|                          0|                        0|238.034|      1.8|          0.0|     93.1|   5.3|   0.75| 18306.96|    194.0|0.187566339|   41.2|41355.0|\n",
            "|          0|        7|             2015|                      27|                        1|                      0|                   4|     2|     0.0|     0|                0|                     0|                             0|              0|250.0|                   0| 153.0|                          0|                        1|238.034|      1.8|          0.0|     93.1|   5.3|   0.75| 18306.96|    194.0|0.187566339|   41.2|41355.0|\n",
            "+-----------+---------+-----------------+------------------------+-------------------------+-----------------------+--------------------+------+--------+------+-----------------+----------------------+------------------------------+---------------+-----+--------------------+------+---------------------------+-------------------------+-------+---------+-------------+---------+------+-------+---------+---------+-----------+-------+-------+\n",
            "only showing top 20 rows\n",
            "\n"
          ]
        }
      ]
    },
    {
      "cell_type": "code",
      "source": [
        "[i for i,v in df.dtypes if v in ['date']]"
      ],
      "metadata": {
        "colab": {
          "base_uri": "https://localhost:8080/"
        },
        "id": "zJHi9EtPRfPv",
        "outputId": "82fdeb7a-dc34-42de-b00c-8ac454c94354"
      },
      "execution_count": 183,
      "outputs": [
        {
          "output_type": "execute_result",
          "data": {
            "text/plain": [
              "['reservation_status_date']"
            ]
          },
          "metadata": {},
          "execution_count": 183
        }
      ]
    },
    {
      "cell_type": "code",
      "source": [
        "df.select([i for i,v in df.dtypes if v in ['date']]).show()"
      ],
      "metadata": {
        "colab": {
          "base_uri": "https://localhost:8080/"
        },
        "id": "neu5cyhDRfNP",
        "outputId": "d5374956-855b-4f96-8189-894139a80998"
      },
      "execution_count": 184,
      "outputs": [
        {
          "output_type": "stream",
          "name": "stdout",
          "text": [
            "+-----------------------+\n",
            "|reservation_status_date|\n",
            "+-----------------------+\n",
            "|             2015-07-01|\n",
            "|             2015-07-01|\n",
            "|             2015-07-02|\n",
            "|             2015-07-02|\n",
            "|             2015-07-03|\n",
            "|             2015-07-03|\n",
            "|             2015-07-03|\n",
            "|             2015-07-03|\n",
            "|             2015-05-06|\n",
            "|             2015-04-22|\n",
            "|             2015-06-23|\n",
            "|             2015-07-05|\n",
            "|             2015-07-05|\n",
            "|             2015-07-05|\n",
            "|             2015-07-05|\n",
            "|             2015-07-05|\n",
            "|             2015-07-05|\n",
            "|             2015-07-02|\n",
            "|             2015-07-02|\n",
            "|             2015-07-05|\n",
            "+-----------------------+\n",
            "only showing top 20 rows\n",
            "\n"
          ]
        }
      ]
    },
    {
      "cell_type": "code",
      "source": [
        "df.printSchema()"
      ],
      "metadata": {
        "colab": {
          "base_uri": "https://localhost:8080/"
        },
        "id": "dWO6l5bjRICQ",
        "outputId": "80e65406-072b-4ba4-a160-6e26cca27947"
      },
      "execution_count": 185,
      "outputs": [
        {
          "output_type": "stream",
          "name": "stdout",
          "text": [
            "root\n",
            " |-- hotel: string (nullable = true)\n",
            " |-- is_canceled: integer (nullable = true)\n",
            " |-- lead_time: integer (nullable = true)\n",
            " |-- arrival_date_year: integer (nullable = true)\n",
            " |-- arrival_date_month: string (nullable = true)\n",
            " |-- arrival_date_week_number: integer (nullable = true)\n",
            " |-- arrival_date_day_of_month: integer (nullable = true)\n",
            " |-- stays_in_weekend_nights: integer (nullable = true)\n",
            " |-- stays_in_week_nights: integer (nullable = true)\n",
            " |-- adults: integer (nullable = true)\n",
            " |-- children: double (nullable = true)\n",
            " |-- babies: integer (nullable = true)\n",
            " |-- meal: string (nullable = true)\n",
            " |-- country: string (nullable = true)\n",
            " |-- market_segment: string (nullable = true)\n",
            " |-- distribution_channel: string (nullable = true)\n",
            " |-- is_repeated_guest: integer (nullable = true)\n",
            " |-- previous_cancellations: integer (nullable = true)\n",
            " |-- previous_bookings_not_canceled: integer (nullable = true)\n",
            " |-- reserved_room_type: string (nullable = true)\n",
            " |-- assigned_room_type: string (nullable = true)\n",
            " |-- booking_changes: integer (nullable = true)\n",
            " |-- deposit_type: string (nullable = true)\n",
            " |-- agent: double (nullable = true)\n",
            " |-- days_in_waiting_list: integer (nullable = true)\n",
            " |-- customer_type: string (nullable = true)\n",
            " |-- adr: double (nullable = true)\n",
            " |-- required_car_parking_spaces: integer (nullable = true)\n",
            " |-- total_of_special_requests: integer (nullable = true)\n",
            " |-- reservation_status: string (nullable = true)\n",
            " |-- reservation_status_date: date (nullable = true)\n",
            " |-- MO_YR: string (nullable = true)\n",
            " |-- CPI_AVG: double (nullable = true)\n",
            " |-- INFLATION: double (nullable = true)\n",
            " |-- INFLATION_CHG: double (nullable = true)\n",
            " |-- CSMR_SENT: double (nullable = true)\n",
            " |-- UNRATE: double (nullable = true)\n",
            " |-- INTRSRT: double (nullable = true)\n",
            " |-- GDP: double (nullable = true)\n",
            " |-- FUEL_PRCS: double (nullable = true)\n",
            " |-- CPI_HOTELS: double (nullable = true)\n",
            " |-- US_GINI: double (nullable = true)\n",
            " |-- DIS_INC: double (nullable = true)\n",
            "\n"
          ]
        }
      ]
    },
    {
      "cell_type": "code",
      "source": [
        "df.show()"
      ],
      "metadata": {
        "colab": {
          "base_uri": "https://localhost:8080/"
        },
        "id": "Wia1wvp4RH_v",
        "outputId": "f17e8f00-ab13-44ae-f444-4252e1b7c2b0"
      },
      "execution_count": 186,
      "outputs": [
        {
          "output_type": "stream",
          "name": "stdout",
          "text": [
            "+------------+-----------+---------+-----------------+------------------+------------------------+-------------------------+-----------------------+--------------------+------+--------+------+----+-------+--------------+--------------------+-----------------+----------------------+------------------------------+------------------+------------------+---------------+------------+-----+--------------------+-------------+------+---------------------------+-------------------------+------------------+-----------------------+------+-------+---------+-------------+---------+------+-------+---------+---------+-----------+-------+-------+\n",
            "|       hotel|is_canceled|lead_time|arrival_date_year|arrival_date_month|arrival_date_week_number|arrival_date_day_of_month|stays_in_weekend_nights|stays_in_week_nights|adults|children|babies|meal|country|market_segment|distribution_channel|is_repeated_guest|previous_cancellations|previous_bookings_not_canceled|reserved_room_type|assigned_room_type|booking_changes|deposit_type|agent|days_in_waiting_list|customer_type|   adr|required_car_parking_spaces|total_of_special_requests|reservation_status|reservation_status_date| MO_YR|CPI_AVG|INFLATION|INFLATION_CHG|CSMR_SENT|UNRATE|INTRSRT|      GDP|FUEL_PRCS| CPI_HOTELS|US_GINI|DIS_INC|\n",
            "+------------+-----------+---------+-----------------+------------------+------------------------+-------------------------+-----------------------+--------------------+------+--------+------+----+-------+--------------+--------------------+-----------------+----------------------+------------------------------+------------------+------------------+---------------+------------+-----+--------------------+-------------+------+---------------------------+-------------------------+------------------+-----------------------+------+-------+---------+-------------+---------+------+-------+---------+---------+-----------+-------+-------+\n",
            "|Resort Hotel|          0|      342|             2015|              July|                      27|                        1|                      0|                   0|     2|     0.0|     0|  BB|    PRT|        Direct|              Direct|                0|                     0|                             0|                 C|                 C|              3|  No Deposit|  0.0|                   0|    Transient|   0.0|                          0|                        0|         Check-Out|             2015-07-01|7-2015|238.034|      1.8|          0.0|     93.1|   5.3|   0.75| 18306.96|    194.0|0.187566339|   41.2|41355.0|\n",
            "|Resort Hotel|          0|      737|             2015|              July|                      27|                        1|                      0|                   0|     2|     0.0|     0|  BB|    PRT|        Direct|              Direct|                0|                     0|                             0|                 C|                 C|              4|  No Deposit|  0.0|                   0|    Transient|   0.0|                          0|                        0|         Check-Out|             2015-07-01|7-2015|238.034|      1.8|          0.0|     93.1|   5.3|   0.75| 18306.96|    194.0|0.187566339|   41.2|41355.0|\n",
            "|Resort Hotel|          0|        7|             2015|              July|                      27|                        1|                      0|                   1|     1|     0.0|     0|  BB|    GBR|        Direct|              Direct|                0|                     0|                             0|                 A|                 C|              0|  No Deposit|  0.0|                   0|    Transient|  75.0|                          0|                        0|         Check-Out|             2015-07-02|7-2015|238.034|      1.8|          0.0|     93.1|   5.3|   0.75| 18306.96|    194.0|0.187566339|   41.2|41355.0|\n",
            "|Resort Hotel|          0|       13|             2015|              July|                      27|                        1|                      0|                   1|     1|     0.0|     0|  BB|    GBR|     Corporate|           Corporate|                0|                     0|                             0|                 A|                 A|              0|  No Deposit|304.0|                   0|    Transient|  75.0|                          0|                        0|         Check-Out|             2015-07-02|7-2015|238.034|      1.8|          0.0|     93.1|   5.3|   0.75| 18306.96|    194.0|0.187566339|   41.2|41355.0|\n",
            "|Resort Hotel|          0|       14|             2015|              July|                      27|                        1|                      0|                   2|     2|     0.0|     0|  BB|    GBR|     Online TA|               TA/TO|                0|                     0|                             0|                 A|                 A|              0|  No Deposit|240.0|                   0|    Transient|  98.0|                          0|                        1|         Check-Out|             2015-07-03|7-2015|238.034|      1.8|          0.0|     93.1|   5.3|   0.75| 18306.96|    194.0|0.187566339|   41.2|41355.0|\n",
            "|Resort Hotel|          0|       14|             2015|              July|                      27|                        1|                      0|                   2|     2|     0.0|     0|  BB|    GBR|     Online TA|               TA/TO|                0|                     0|                             0|                 A|                 A|              0|  No Deposit|240.0|                   0|    Transient|  98.0|                          0|                        1|         Check-Out|             2015-07-03|7-2015|238.034|      1.8|          0.0|     93.1|   5.3|   0.75| 18306.96|    194.0|0.187566339|   41.2|41355.0|\n",
            "|Resort Hotel|          0|        0|             2015|              July|                      27|                        1|                      0|                   2|     2|     0.0|     0|  BB|    PRT|        Direct|              Direct|                0|                     0|                             0|                 C|                 C|              0|  No Deposit|  0.0|                   0|    Transient| 107.0|                          0|                        0|         Check-Out|             2015-07-03|7-2015|238.034|      1.8|          0.0|     93.1|   5.3|   0.75| 18306.96|    194.0|0.187566339|   41.2|41355.0|\n",
            "|Resort Hotel|          0|        9|             2015|              July|                      27|                        1|                      0|                   2|     2|     0.0|     0|  FB|    PRT|        Direct|              Direct|                0|                     0|                             0|                 C|                 C|              0|  No Deposit|303.0|                   0|    Transient| 103.0|                          0|                        1|         Check-Out|             2015-07-03|7-2015|238.034|      1.8|          0.0|     93.1|   5.3|   0.75| 18306.96|    194.0|0.187566339|   41.2|41355.0|\n",
            "|Resort Hotel|          1|       85|             2015|              July|                      27|                        1|                      0|                   3|     2|     0.0|     0|  BB|    PRT|     Online TA|               TA/TO|                0|                     0|                             0|                 A|                 A|              0|  No Deposit|240.0|                   0|    Transient|  82.0|                          0|                        1|          Canceled|             2015-05-06|5-2015|237.001|      1.7|         -0.1|     90.7|   5.4|   0.75|18193.707|    202.6|0.185619641|   41.2|41290.0|\n",
            "|Resort Hotel|          1|       75|             2015|              July|                      27|                        1|                      0|                   3|     2|     0.0|     0|  HB|    PRT| Offline TA/TO|               TA/TO|                0|                     0|                             0|                 D|                 D|              0|  No Deposit| 15.0|                   0|    Transient| 105.5|                          0|                        0|          Canceled|             2015-04-22|4-2015|236.222|      1.8|          0.0|     95.9|   5.4|   0.75|18193.707|    183.8|0.216699359|   41.2|41248.0|\n",
            "|Resort Hotel|          1|       23|             2015|              July|                      27|                        1|                      0|                   4|     2|     0.0|     0|  BB|    PRT|     Online TA|               TA/TO|                0|                     0|                             0|                 E|                 E|              0|  No Deposit|240.0|                   0|    Transient| 123.0|                          0|                        0|          Canceled|             2015-06-23|6-2015|237.657|      1.8|          0.1|     96.1|   5.6|   0.75|18193.707|    198.7| 0.18253402|   41.2|41288.0|\n",
            "|Resort Hotel|          0|       35|             2015|              July|                      27|                        1|                      0|                   4|     2|     0.0|     0|  HB|    PRT|     Online TA|               TA/TO|                0|                     0|                             0|                 D|                 D|              0|  No Deposit|240.0|                   0|    Transient| 145.0|                          0|                        0|         Check-Out|             2015-07-05|7-2015|238.034|      1.8|          0.0|     93.1|   5.3|   0.75| 18306.96|    194.0|0.187566339|   41.2|41355.0|\n",
            "|Resort Hotel|          0|       68|             2015|              July|                      27|                        1|                      0|                   4|     2|     0.0|     0|  BB|    USA|     Online TA|               TA/TO|                0|                     0|                             0|                 D|                 E|              0|  No Deposit|240.0|                   0|    Transient|  97.0|                          0|                        3|         Check-Out|             2015-07-05|7-2015|238.034|      1.8|          0.0|     93.1|   5.3|   0.75| 18306.96|    194.0|0.187566339|   41.2|41355.0|\n",
            "|Resort Hotel|          0|       18|             2015|              July|                      27|                        1|                      0|                   4|     2|     1.0|     0|  HB|    ESP|     Online TA|               TA/TO|                0|                     0|                             0|                 G|                 G|              1|  No Deposit|241.0|                   0|    Transient|154.77|                          0|                        1|         Check-Out|             2015-07-05|7-2015|238.034|      1.8|          0.0|     93.1|   5.3|   0.75| 18306.96|    194.0|0.187566339|   41.2|41355.0|\n",
            "|Resort Hotel|          0|       37|             2015|              July|                      27|                        1|                      0|                   4|     2|     0.0|     0|  BB|    PRT|     Online TA|               TA/TO|                0|                     0|                             0|                 E|                 E|              0|  No Deposit|241.0|                   0|    Transient| 94.71|                          0|                        0|         Check-Out|             2015-07-05|7-2015|238.034|      1.8|          0.0|     93.1|   5.3|   0.75| 18306.96|    194.0|0.187566339|   41.2|41355.0|\n",
            "|Resort Hotel|          0|       68|             2015|              July|                      27|                        1|                      0|                   4|     2|     0.0|     0|  BB|    IRL|     Online TA|               TA/TO|                0|                     0|                             0|                 D|                 E|              0|  No Deposit|240.0|                   0|    Transient|  97.0|                          0|                        3|         Check-Out|             2015-07-05|7-2015|238.034|      1.8|          0.0|     93.1|   5.3|   0.75| 18306.96|    194.0|0.187566339|   41.2|41355.0|\n",
            "|Resort Hotel|          0|       37|             2015|              July|                      27|                        1|                      0|                   4|     2|     0.0|     0|  BB|    PRT| Offline TA/TO|               TA/TO|                0|                     0|                             0|                 E|                 E|              0|  No Deposit|  8.0|                   0|     Contract|  97.5|                          0|                        0|         Check-Out|             2015-07-05|7-2015|238.034|      1.8|          0.0|     93.1|   5.3|   0.75| 18306.96|    194.0|0.187566339|   41.2|41355.0|\n",
            "|Resort Hotel|          0|       12|             2015|              July|                      27|                        1|                      0|                   1|     2|     0.0|     0|  BB|    IRL|     Online TA|               TA/TO|                0|                     0|                             0|                 A|                 E|              0|  No Deposit|240.0|                   0|    Transient|  88.2|                          0|                        0|         Check-Out|             2015-07-02|7-2015|238.034|      1.8|          0.0|     93.1|   5.3|   0.75| 18306.96|    194.0|0.187566339|   41.2|41355.0|\n",
            "|Resort Hotel|          0|        0|             2015|              July|                      27|                        1|                      0|                   1|     2|     0.0|     0|  BB|    FRA|     Corporate|           Corporate|                0|                     0|                             0|                 A|                 G|              0|  No Deposit|  0.0|                   0|    Transient|107.42|                          0|                        0|         Check-Out|             2015-07-02|7-2015|238.034|      1.8|          0.0|     93.1|   5.3|   0.75| 18306.96|    194.0|0.187566339|   41.2|41355.0|\n",
            "|Resort Hotel|          0|        7|             2015|              July|                      27|                        1|                      0|                   4|     2|     0.0|     0|  BB|    GBR|        Direct|              Direct|                0|                     0|                             0|                 G|                 G|              0|  No Deposit|250.0|                   0|    Transient| 153.0|                          0|                        1|         Check-Out|             2015-07-05|7-2015|238.034|      1.8|          0.0|     93.1|   5.3|   0.75| 18306.96|    194.0|0.187566339|   41.2|41355.0|\n",
            "+------------+-----------+---------+-----------------+------------------+------------------------+-------------------------+-----------------------+--------------------+------+--------+------+----+-------+--------------+--------------------+-----------------+----------------------+------------------------------+------------------+------------------+---------------+------------+-----+--------------------+-------------+------+---------------------------+-------------------------+------------------+-----------------------+------+-------+---------+-------------+---------+------+-------+---------+---------+-----------+-------+-------+\n",
            "only showing top 20 rows\n",
            "\n"
          ]
        }
      ]
    },
    {
      "cell_type": "markdown",
      "source": [
        "# EDA on the Datasets"
      ],
      "metadata": {
        "id": "uxsNP9jZKoJO"
      }
    },
    {
      "cell_type": "code",
      "source": [
        "df.count()"
      ],
      "metadata": {
        "colab": {
          "base_uri": "https://localhost:8080/"
        },
        "id": "ki4PrJsmLCpI",
        "outputId": "82bf93f5-8bc2-403e-cd7d-412b7de3b344"
      },
      "execution_count": 187,
      "outputs": [
        {
          "output_type": "execute_result",
          "data": {
            "text/plain": [
              "119390"
            ]
          },
          "metadata": {},
          "execution_count": 187
        }
      ]
    },
    {
      "cell_type": "code",
      "source": [
        "df.columns"
      ],
      "metadata": {
        "colab": {
          "base_uri": "https://localhost:8080/"
        },
        "id": "xWxkIqbJLCnB",
        "outputId": "9e06185c-6bf1-4f6f-cb16-3a8676008355"
      },
      "execution_count": 188,
      "outputs": [
        {
          "output_type": "execute_result",
          "data": {
            "text/plain": [
              "['hotel',\n",
              " 'is_canceled',\n",
              " 'lead_time',\n",
              " 'arrival_date_year',\n",
              " 'arrival_date_month',\n",
              " 'arrival_date_week_number',\n",
              " 'arrival_date_day_of_month',\n",
              " 'stays_in_weekend_nights',\n",
              " 'stays_in_week_nights',\n",
              " 'adults',\n",
              " 'children',\n",
              " 'babies',\n",
              " 'meal',\n",
              " 'country',\n",
              " 'market_segment',\n",
              " 'distribution_channel',\n",
              " 'is_repeated_guest',\n",
              " 'previous_cancellations',\n",
              " 'previous_bookings_not_canceled',\n",
              " 'reserved_room_type',\n",
              " 'assigned_room_type',\n",
              " 'booking_changes',\n",
              " 'deposit_type',\n",
              " 'agent',\n",
              " 'days_in_waiting_list',\n",
              " 'customer_type',\n",
              " 'adr',\n",
              " 'required_car_parking_spaces',\n",
              " 'total_of_special_requests',\n",
              " 'reservation_status',\n",
              " 'reservation_status_date',\n",
              " 'MO_YR',\n",
              " 'CPI_AVG',\n",
              " 'INFLATION',\n",
              " 'INFLATION_CHG',\n",
              " 'CSMR_SENT',\n",
              " 'UNRATE',\n",
              " 'INTRSRT',\n",
              " 'GDP',\n",
              " 'FUEL_PRCS',\n",
              " 'CPI_HOTELS',\n",
              " 'US_GINI',\n",
              " 'DIS_INC']"
            ]
          },
          "metadata": {},
          "execution_count": 188
        }
      ]
    },
    {
      "cell_type": "markdown",
      "source": [
        "# Columns Details;\n",
        "\n",
        "* hotel: This column indicates the type of hotel, either \"Resort Hotel\" or \"City Hotel.\"\n",
        "* is_canceled: This column is a binary indicator (0 or 1) that represents whether a booking was canceled (1) or not (0).\n",
        "* lead_time: It represents the number of days between the booking date and the arrival date.\n",
        "* arrival_date_year: The year of arrival.\n",
        "* arrival_date_month: The month of arrival.\n",
        "* arrival_date_week_number: The week number of the arrival date.\n",
        "\n",
        "* arrival_date_day_of_month: The day of the month of the arrival date.\n",
        "\n",
        "* stays_in_weekend_nights: The number of weekend nights (Saturday and Sunday) the guest booked to stay.\n",
        "\n",
        "* stays_in_week_nights: The number of weekday nights (Monday to Friday) the guest booked to stay.\n",
        "\n",
        "* adults: The number of adults included in the booking.\n",
        "\n",
        "* children: The number of children included in the booking.\n",
        "\n",
        "* babies: The number of babies included in the booking.\n",
        "\n",
        "* meal: The type of meal booked (e.g., BB for Bed & Breakfast, HB for Half Board).\n",
        "\n",
        "* country: The country of origin of the guest.\n",
        "\n",
        "* market_segment: The market segment that made the booking (e.g., Online Travel Agents, Corporate).\n",
        "\n",
        "* distribution_channel: The distribution channel through which the booking was made (e.g., Direct, TA/TO).\n",
        "\n",
        "* is_repeated_guest: A binary indicator (0 or 1) indicating whether the guest is a repeated guest at the hotel.\n",
        "\n",
        "* previous_cancellations: The number of previous booking cancellations by the guest.\n",
        "\n",
        "* previous_bookings_not_canceled: The number of previous bookings that were not canceled by the guest.\n",
        "\n",
        "* reserved_room_type: The room type reserved by the guest.\n",
        "\n",
        "* assigned_room_type: The room type assigned to the guest upon arrival.\n",
        "\n",
        "* booking_changes: The number of changes made to the booking.\n",
        "\n",
        "* deposit_type: The type of deposit made for the booking.\n",
        "\n",
        "* agent: The ID of the travel agency that made the booking.\n",
        "\n",
        "* days_in_waiting_list: The number of days the booking was in the waiting list before it was confirmed.\n",
        "\n",
        "* customer_type: The type of customer (e.g., Transient, Contract).\n",
        "\n",
        "* adr: The average daily rate (the average price per night for the booking).\n",
        "\n",
        "* required_car_parking_spaces: The number of car parking spaces required by the guest.\n",
        "\n",
        "* total_of_special_requests: The total number of special requests made by the guest.\n",
        "\n",
        "* reservation_status: The reservation status (e.g., Check-Out, Canceled).\n",
        "\n",
        "* reservation_status_date: The date at which the reservation status was recorded.\n",
        "\n",
        "* MO_YR: A combination of the month and year for analysis.\n",
        "\n",
        "* CPI_AVG: The average Consumer Price Index (CPI).\n",
        "\n",
        "* INFLATION: The inflation rate.\n",
        "\n",
        "* INFLATION_CHG: The change in inflation rate.\n",
        "\n",
        "* CSMR_SENT: Consumer sentiment index.\n",
        "\n",
        "* UNRATE: The unemployment rate.\n",
        "\n",
        "* INTRSRT: Interest rate.\n",
        "\n",
        "* GDP: Gross Domestic Product.\n",
        "\n",
        "* FUEL_PRCS: Fuel prices.\n",
        "\n",
        "* CPI_HOTELS: CPI for hotels.\n",
        "\n",
        "* US_GINI: GINI index for the United States.\n",
        "\n",
        "* DIS_INC: Disposable income."
      ],
      "metadata": {
        "id": "eNH9-IrwLjxx"
      }
    },
    {
      "cell_type": "code",
      "source": [
        "len(df.columns)"
      ],
      "metadata": {
        "colab": {
          "base_uri": "https://localhost:8080/"
        },
        "id": "QflD_JKxLFBQ",
        "outputId": "a844178a-f2c0-4f09-bd61-379a5297ca9a"
      },
      "execution_count": 189,
      "outputs": [
        {
          "output_type": "execute_result",
          "data": {
            "text/plain": [
              "43"
            ]
          },
          "metadata": {},
          "execution_count": 189
        }
      ]
    },
    {
      "cell_type": "markdown",
      "source": [
        "# Descriptive Analysis"
      ],
      "metadata": {
        "id": "XsH1SawZKp1o"
      }
    },
    {
      "cell_type": "code",
      "source": [
        "df.describe().show()"
      ],
      "metadata": {
        "id": "axuLhyTIRH6f",
        "colab": {
          "base_uri": "https://localhost:8080/"
        },
        "outputId": "d4d2a34a-0cf7-4311-8a21-9e68d3dd4658"
      },
      "execution_count": 190,
      "outputs": [
        {
          "output_type": "stream",
          "name": "stdout",
          "text": [
            "+-------+------------+-------------------+------------------+------------------+------------------+------------------------+-------------------------+-----------------------+--------------------+------------------+-------------------+--------------------+---------+-------+--------------+--------------------+-------------------+----------------------+------------------------------+------------------+------------------+-------------------+------------+-----------------+--------------------+---------------+-----------------+---------------------------+-------------------------+------------------+------+------------------+------------------+--------------------+------------------+-------------------+-------------------+------------------+------------------+--------------------+-------------------+-----------------+\n",
            "|summary|       hotel|        is_canceled|         lead_time| arrival_date_year|arrival_date_month|arrival_date_week_number|arrival_date_day_of_month|stays_in_weekend_nights|stays_in_week_nights|            adults|           children|              babies|     meal|country|market_segment|distribution_channel|  is_repeated_guest|previous_cancellations|previous_bookings_not_canceled|reserved_room_type|assigned_room_type|    booking_changes|deposit_type|            agent|days_in_waiting_list|  customer_type|              adr|required_car_parking_spaces|total_of_special_requests|reservation_status| MO_YR|           CPI_AVG|         INFLATION|       INFLATION_CHG|         CSMR_SENT|             UNRATE|            INTRSRT|               GDP|         FUEL_PRCS|          CPI_HOTELS|            US_GINI|          DIS_INC|\n",
            "+-------+------------+-------------------+------------------+------------------+------------------+------------------------+-------------------------+-----------------------+--------------------+------------------+-------------------+--------------------+---------+-------+--------------+--------------------+-------------------+----------------------+------------------------------+------------------+------------------+-------------------+------------+-----------------+--------------------+---------------+-----------------+---------------------------+-------------------------+------------------+------+------------------+------------------+--------------------+------------------+-------------------+-------------------+------------------+------------------+--------------------+-------------------+-----------------+\n",
            "|  count|      119390|             119390|            119390|            119390|            119390|                  119390|                   119390|                 119390|              119390|            119390|             119386|              119390|   119390| 119390|        119390|              119390|             119390|                119390|                        119390|            119390|            119390|             119390|      119390|           119390|              119390|         119390|           119390|                     119390|                   119390|            119390|119390|            119209|            119209|              119209|            119209|             119209|             119209|            119209|            119209|              119209|             119209|           119209|\n",
            "|   mean|        null|0.37041628277075134|104.01141636652986| 2016.156554150264|              null|       27.16517296255968|       15.798241058715135|     0.9275986263506156|   2.500301532791691|1.8564033838679956|0.10388990333874994|0.007948739425412514|     null|   null|          null|                null|0.03191222045397437|   0.08711784906608594|           0.13709690928888515|              null|              null|0.22112404724013737|        null|74.82831895468632|   2.321149174972778|           null|101.8311215344634|        0.06251779881062065|       0.5713627607002262|              null|  null|240.78065240885272|2.0439882894739845|-0.00839198382672...| 93.09309196454156|    4.8279676870039| 1.1200328834232314|18796.312904070888|157.64872367019356| 0.17732385553244395|  41.15151624459438|41970.47732134318|\n",
            "| stddev|        null| 0.4829182265925982|106.86309704798772|0.7074759445222705|              null|      13.605138355497672|         8.78082947057831|     0.9986134945978781|   1.908285615047905|0.5792609988327544| 0.3985614447864426| 0.09743619130126405|     null|   null|          null|                null|0.17576714541065663|     0.844336384154511|            1.4974368477076736|              null|              null| 0.6523055726747711|        null|107.1419531238985|   17.59472087877626|           null|50.53579028554874|        0.24529114746749464|       0.7927984228094106|              null|  null|2.6918309944043544|0.2033883132907519|  0.0956999729782067|3.2723619612530737|0.27910500139071504|0.30192468730360206| 401.0086902669426|21.373932448791376|0.023983805258656347|0.04997721435651949|426.7398803322143|\n",
            "|    min|  City Hotel|                  0|                 0|              2015|             April|                       1|                        1|                      0|                   0|                 0|                0.0|                   0|       BB|    ABW|      Aviation|           Corporate|                  0|                     0|                             0|                 A|                 A|                  0|  No Deposit|              0.0|                   0|       Contract|            -6.38|                          0|                        0|          Canceled|1-2015|           234.747|               1.6|                -0.2|              87.2|                4.3|               0.75|         17991.348|             113.4|         0.107058689|               41.1|          41182.0|\n",
            "|    max|Resort Hotel|                  1|               737|              2017|         September|                      53|                       31|                     19|                  50|                55|               10.0|                  10|Undefined|    ZWE|     Undefined|           Undefined|                  1|                    26|                            72|                 P|                 P|                 21|  Refundable|            535.0|                 391|Transient-Party|           5400.0|                          8|                        5|           No-Show|9-2017|           246.435|               2.3|                 0.1|              98.5|                5.7|               1.75|         19561.896|             204.2|         0.236503564|               41.2|          42834.0|\n",
            "+-------+------------+-------------------+------------------+------------------+------------------+------------------------+-------------------------+-----------------------+--------------------+------------------+-------------------+--------------------+---------+-------+--------------+--------------------+-------------------+----------------------+------------------------------+------------------+------------------+-------------------+------------+-----------------+--------------------+---------------+-----------------+---------------------------+-------------------------+------------------+------+------------------+------------------+--------------------+------------------+-------------------+-------------------+------------------+------------------+--------------------+-------------------+-----------------+\n",
            "\n"
          ]
        }
      ]
    },
    {
      "cell_type": "markdown",
      "source": [
        "# Which month had the highest number of bookings in the dataset, and which had the highest cancellations?"
      ],
      "metadata": {
        "id": "nedirHGlK35I"
      }
    },
    {
      "cell_type": "code",
      "source": [],
      "metadata": {
        "id": "4l7Skqp_RH3v"
      },
      "execution_count": 190,
      "outputs": []
    },
    {
      "cell_type": "code",
      "source": [
        "df.show()"
      ],
      "metadata": {
        "id": "Dusoc2JXRH1X",
        "colab": {
          "base_uri": "https://localhost:8080/"
        },
        "outputId": "52eecfb1-91d9-4b82-a81e-5a00ba492914"
      },
      "execution_count": 191,
      "outputs": [
        {
          "output_type": "stream",
          "name": "stdout",
          "text": [
            "+------------+-----------+---------+-----------------+------------------+------------------------+-------------------------+-----------------------+--------------------+------+--------+------+----+-------+--------------+--------------------+-----------------+----------------------+------------------------------+------------------+------------------+---------------+------------+-----+--------------------+-------------+------+---------------------------+-------------------------+------------------+-----------------------+------+-------+---------+-------------+---------+------+-------+---------+---------+-----------+-------+-------+\n",
            "|       hotel|is_canceled|lead_time|arrival_date_year|arrival_date_month|arrival_date_week_number|arrival_date_day_of_month|stays_in_weekend_nights|stays_in_week_nights|adults|children|babies|meal|country|market_segment|distribution_channel|is_repeated_guest|previous_cancellations|previous_bookings_not_canceled|reserved_room_type|assigned_room_type|booking_changes|deposit_type|agent|days_in_waiting_list|customer_type|   adr|required_car_parking_spaces|total_of_special_requests|reservation_status|reservation_status_date| MO_YR|CPI_AVG|INFLATION|INFLATION_CHG|CSMR_SENT|UNRATE|INTRSRT|      GDP|FUEL_PRCS| CPI_HOTELS|US_GINI|DIS_INC|\n",
            "+------------+-----------+---------+-----------------+------------------+------------------------+-------------------------+-----------------------+--------------------+------+--------+------+----+-------+--------------+--------------------+-----------------+----------------------+------------------------------+------------------+------------------+---------------+------------+-----+--------------------+-------------+------+---------------------------+-------------------------+------------------+-----------------------+------+-------+---------+-------------+---------+------+-------+---------+---------+-----------+-------+-------+\n",
            "|Resort Hotel|          0|      342|             2015|              July|                      27|                        1|                      0|                   0|     2|     0.0|     0|  BB|    PRT|        Direct|              Direct|                0|                     0|                             0|                 C|                 C|              3|  No Deposit|  0.0|                   0|    Transient|   0.0|                          0|                        0|         Check-Out|             2015-07-01|7-2015|238.034|      1.8|          0.0|     93.1|   5.3|   0.75| 18306.96|    194.0|0.187566339|   41.2|41355.0|\n",
            "|Resort Hotel|          0|      737|             2015|              July|                      27|                        1|                      0|                   0|     2|     0.0|     0|  BB|    PRT|        Direct|              Direct|                0|                     0|                             0|                 C|                 C|              4|  No Deposit|  0.0|                   0|    Transient|   0.0|                          0|                        0|         Check-Out|             2015-07-01|7-2015|238.034|      1.8|          0.0|     93.1|   5.3|   0.75| 18306.96|    194.0|0.187566339|   41.2|41355.0|\n",
            "|Resort Hotel|          0|        7|             2015|              July|                      27|                        1|                      0|                   1|     1|     0.0|     0|  BB|    GBR|        Direct|              Direct|                0|                     0|                             0|                 A|                 C|              0|  No Deposit|  0.0|                   0|    Transient|  75.0|                          0|                        0|         Check-Out|             2015-07-02|7-2015|238.034|      1.8|          0.0|     93.1|   5.3|   0.75| 18306.96|    194.0|0.187566339|   41.2|41355.0|\n",
            "|Resort Hotel|          0|       13|             2015|              July|                      27|                        1|                      0|                   1|     1|     0.0|     0|  BB|    GBR|     Corporate|           Corporate|                0|                     0|                             0|                 A|                 A|              0|  No Deposit|304.0|                   0|    Transient|  75.0|                          0|                        0|         Check-Out|             2015-07-02|7-2015|238.034|      1.8|          0.0|     93.1|   5.3|   0.75| 18306.96|    194.0|0.187566339|   41.2|41355.0|\n",
            "|Resort Hotel|          0|       14|             2015|              July|                      27|                        1|                      0|                   2|     2|     0.0|     0|  BB|    GBR|     Online TA|               TA/TO|                0|                     0|                             0|                 A|                 A|              0|  No Deposit|240.0|                   0|    Transient|  98.0|                          0|                        1|         Check-Out|             2015-07-03|7-2015|238.034|      1.8|          0.0|     93.1|   5.3|   0.75| 18306.96|    194.0|0.187566339|   41.2|41355.0|\n",
            "|Resort Hotel|          0|       14|             2015|              July|                      27|                        1|                      0|                   2|     2|     0.0|     0|  BB|    GBR|     Online TA|               TA/TO|                0|                     0|                             0|                 A|                 A|              0|  No Deposit|240.0|                   0|    Transient|  98.0|                          0|                        1|         Check-Out|             2015-07-03|7-2015|238.034|      1.8|          0.0|     93.1|   5.3|   0.75| 18306.96|    194.0|0.187566339|   41.2|41355.0|\n",
            "|Resort Hotel|          0|        0|             2015|              July|                      27|                        1|                      0|                   2|     2|     0.0|     0|  BB|    PRT|        Direct|              Direct|                0|                     0|                             0|                 C|                 C|              0|  No Deposit|  0.0|                   0|    Transient| 107.0|                          0|                        0|         Check-Out|             2015-07-03|7-2015|238.034|      1.8|          0.0|     93.1|   5.3|   0.75| 18306.96|    194.0|0.187566339|   41.2|41355.0|\n",
            "|Resort Hotel|          0|        9|             2015|              July|                      27|                        1|                      0|                   2|     2|     0.0|     0|  FB|    PRT|        Direct|              Direct|                0|                     0|                             0|                 C|                 C|              0|  No Deposit|303.0|                   0|    Transient| 103.0|                          0|                        1|         Check-Out|             2015-07-03|7-2015|238.034|      1.8|          0.0|     93.1|   5.3|   0.75| 18306.96|    194.0|0.187566339|   41.2|41355.0|\n",
            "|Resort Hotel|          1|       85|             2015|              July|                      27|                        1|                      0|                   3|     2|     0.0|     0|  BB|    PRT|     Online TA|               TA/TO|                0|                     0|                             0|                 A|                 A|              0|  No Deposit|240.0|                   0|    Transient|  82.0|                          0|                        1|          Canceled|             2015-05-06|5-2015|237.001|      1.7|         -0.1|     90.7|   5.4|   0.75|18193.707|    202.6|0.185619641|   41.2|41290.0|\n",
            "|Resort Hotel|          1|       75|             2015|              July|                      27|                        1|                      0|                   3|     2|     0.0|     0|  HB|    PRT| Offline TA/TO|               TA/TO|                0|                     0|                             0|                 D|                 D|              0|  No Deposit| 15.0|                   0|    Transient| 105.5|                          0|                        0|          Canceled|             2015-04-22|4-2015|236.222|      1.8|          0.0|     95.9|   5.4|   0.75|18193.707|    183.8|0.216699359|   41.2|41248.0|\n",
            "|Resort Hotel|          1|       23|             2015|              July|                      27|                        1|                      0|                   4|     2|     0.0|     0|  BB|    PRT|     Online TA|               TA/TO|                0|                     0|                             0|                 E|                 E|              0|  No Deposit|240.0|                   0|    Transient| 123.0|                          0|                        0|          Canceled|             2015-06-23|6-2015|237.657|      1.8|          0.1|     96.1|   5.6|   0.75|18193.707|    198.7| 0.18253402|   41.2|41288.0|\n",
            "|Resort Hotel|          0|       35|             2015|              July|                      27|                        1|                      0|                   4|     2|     0.0|     0|  HB|    PRT|     Online TA|               TA/TO|                0|                     0|                             0|                 D|                 D|              0|  No Deposit|240.0|                   0|    Transient| 145.0|                          0|                        0|         Check-Out|             2015-07-05|7-2015|238.034|      1.8|          0.0|     93.1|   5.3|   0.75| 18306.96|    194.0|0.187566339|   41.2|41355.0|\n",
            "|Resort Hotel|          0|       68|             2015|              July|                      27|                        1|                      0|                   4|     2|     0.0|     0|  BB|    USA|     Online TA|               TA/TO|                0|                     0|                             0|                 D|                 E|              0|  No Deposit|240.0|                   0|    Transient|  97.0|                          0|                        3|         Check-Out|             2015-07-05|7-2015|238.034|      1.8|          0.0|     93.1|   5.3|   0.75| 18306.96|    194.0|0.187566339|   41.2|41355.0|\n",
            "|Resort Hotel|          0|       18|             2015|              July|                      27|                        1|                      0|                   4|     2|     1.0|     0|  HB|    ESP|     Online TA|               TA/TO|                0|                     0|                             0|                 G|                 G|              1|  No Deposit|241.0|                   0|    Transient|154.77|                          0|                        1|         Check-Out|             2015-07-05|7-2015|238.034|      1.8|          0.0|     93.1|   5.3|   0.75| 18306.96|    194.0|0.187566339|   41.2|41355.0|\n",
            "|Resort Hotel|          0|       37|             2015|              July|                      27|                        1|                      0|                   4|     2|     0.0|     0|  BB|    PRT|     Online TA|               TA/TO|                0|                     0|                             0|                 E|                 E|              0|  No Deposit|241.0|                   0|    Transient| 94.71|                          0|                        0|         Check-Out|             2015-07-05|7-2015|238.034|      1.8|          0.0|     93.1|   5.3|   0.75| 18306.96|    194.0|0.187566339|   41.2|41355.0|\n",
            "|Resort Hotel|          0|       68|             2015|              July|                      27|                        1|                      0|                   4|     2|     0.0|     0|  BB|    IRL|     Online TA|               TA/TO|                0|                     0|                             0|                 D|                 E|              0|  No Deposit|240.0|                   0|    Transient|  97.0|                          0|                        3|         Check-Out|             2015-07-05|7-2015|238.034|      1.8|          0.0|     93.1|   5.3|   0.75| 18306.96|    194.0|0.187566339|   41.2|41355.0|\n",
            "|Resort Hotel|          0|       37|             2015|              July|                      27|                        1|                      0|                   4|     2|     0.0|     0|  BB|    PRT| Offline TA/TO|               TA/TO|                0|                     0|                             0|                 E|                 E|              0|  No Deposit|  8.0|                   0|     Contract|  97.5|                          0|                        0|         Check-Out|             2015-07-05|7-2015|238.034|      1.8|          0.0|     93.1|   5.3|   0.75| 18306.96|    194.0|0.187566339|   41.2|41355.0|\n",
            "|Resort Hotel|          0|       12|             2015|              July|                      27|                        1|                      0|                   1|     2|     0.0|     0|  BB|    IRL|     Online TA|               TA/TO|                0|                     0|                             0|                 A|                 E|              0|  No Deposit|240.0|                   0|    Transient|  88.2|                          0|                        0|         Check-Out|             2015-07-02|7-2015|238.034|      1.8|          0.0|     93.1|   5.3|   0.75| 18306.96|    194.0|0.187566339|   41.2|41355.0|\n",
            "|Resort Hotel|          0|        0|             2015|              July|                      27|                        1|                      0|                   1|     2|     0.0|     0|  BB|    FRA|     Corporate|           Corporate|                0|                     0|                             0|                 A|                 G|              0|  No Deposit|  0.0|                   0|    Transient|107.42|                          0|                        0|         Check-Out|             2015-07-02|7-2015|238.034|      1.8|          0.0|     93.1|   5.3|   0.75| 18306.96|    194.0|0.187566339|   41.2|41355.0|\n",
            "|Resort Hotel|          0|        7|             2015|              July|                      27|                        1|                      0|                   4|     2|     0.0|     0|  BB|    GBR|        Direct|              Direct|                0|                     0|                             0|                 G|                 G|              0|  No Deposit|250.0|                   0|    Transient| 153.0|                          0|                        1|         Check-Out|             2015-07-05|7-2015|238.034|      1.8|          0.0|     93.1|   5.3|   0.75| 18306.96|    194.0|0.187566339|   41.2|41355.0|\n",
            "+------------+-----------+---------+-----------------+------------------+------------------------+-------------------------+-----------------------+--------------------+------+--------+------+----+-------+--------------+--------------------+-----------------+----------------------+------------------------------+------------------+------------------+---------------+------------+-----+--------------------+-------------+------+---------------------------+-------------------------+------------------+-----------------------+------+-------+---------+-------------+---------+------+-------+---------+---------+-----------+-------+-------+\n",
            "only showing top 20 rows\n",
            "\n"
          ]
        }
      ]
    },
    {
      "cell_type": "code",
      "source": [
        "best_month_for_booking = df.groupBy(f.col(\"arrival_date_month\")).count()\n",
        "best_month_for_booking.show()"
      ],
      "metadata": {
        "id": "1Ue5g0n_RHy3",
        "colab": {
          "base_uri": "https://localhost:8080/"
        },
        "outputId": "48750fb3-b8b5-4218-d5a3-cbded8f456b9"
      },
      "execution_count": 192,
      "outputs": [
        {
          "output_type": "stream",
          "name": "stdout",
          "text": [
            "+------------------+-----+\n",
            "|arrival_date_month|count|\n",
            "+------------------+-----+\n",
            "|              July|12661|\n",
            "|          November| 6794|\n",
            "|          February| 8068|\n",
            "|           January| 5929|\n",
            "|             March| 9794|\n",
            "|           October|11160|\n",
            "|               May|11791|\n",
            "|            August|13877|\n",
            "|             April|11089|\n",
            "|              June|10939|\n",
            "|          December| 6780|\n",
            "|         September|10508|\n",
            "+------------------+-----+\n",
            "\n"
          ]
        }
      ]
    },
    {
      "cell_type": "code",
      "source": [
        "best_month_for_booking = best_month_for_booking.toPandas()\n",
        "best_month_for_booking"
      ],
      "metadata": {
        "colab": {
          "base_uri": "https://localhost:8080/",
          "height": 425
        },
        "id": "hFYn2xLZMv_q",
        "outputId": "e4d79743-b3c1-4b8a-9c20-2654028d5c99"
      },
      "execution_count": 193,
      "outputs": [
        {
          "output_type": "execute_result",
          "data": {
            "text/plain": [
              "   arrival_date_month  count\n",
              "0                July  12661\n",
              "1            November   6794\n",
              "2            February   8068\n",
              "3             January   5929\n",
              "4               March   9794\n",
              "5             October  11160\n",
              "6                 May  11791\n",
              "7              August  13877\n",
              "8               April  11089\n",
              "9                June  10939\n",
              "10           December   6780\n",
              "11          September  10508"
            ],
            "text/html": [
              "\n",
              "  <div id=\"df-7f99e0d3-3d12-40f2-9bda-90c5fee58e68\" class=\"colab-df-container\">\n",
              "    <div>\n",
              "<style scoped>\n",
              "    .dataframe tbody tr th:only-of-type {\n",
              "        vertical-align: middle;\n",
              "    }\n",
              "\n",
              "    .dataframe tbody tr th {\n",
              "        vertical-align: top;\n",
              "    }\n",
              "\n",
              "    .dataframe thead th {\n",
              "        text-align: right;\n",
              "    }\n",
              "</style>\n",
              "<table border=\"1\" class=\"dataframe\">\n",
              "  <thead>\n",
              "    <tr style=\"text-align: right;\">\n",
              "      <th></th>\n",
              "      <th>arrival_date_month</th>\n",
              "      <th>count</th>\n",
              "    </tr>\n",
              "  </thead>\n",
              "  <tbody>\n",
              "    <tr>\n",
              "      <th>0</th>\n",
              "      <td>July</td>\n",
              "      <td>12661</td>\n",
              "    </tr>\n",
              "    <tr>\n",
              "      <th>1</th>\n",
              "      <td>November</td>\n",
              "      <td>6794</td>\n",
              "    </tr>\n",
              "    <tr>\n",
              "      <th>2</th>\n",
              "      <td>February</td>\n",
              "      <td>8068</td>\n",
              "    </tr>\n",
              "    <tr>\n",
              "      <th>3</th>\n",
              "      <td>January</td>\n",
              "      <td>5929</td>\n",
              "    </tr>\n",
              "    <tr>\n",
              "      <th>4</th>\n",
              "      <td>March</td>\n",
              "      <td>9794</td>\n",
              "    </tr>\n",
              "    <tr>\n",
              "      <th>5</th>\n",
              "      <td>October</td>\n",
              "      <td>11160</td>\n",
              "    </tr>\n",
              "    <tr>\n",
              "      <th>6</th>\n",
              "      <td>May</td>\n",
              "      <td>11791</td>\n",
              "    </tr>\n",
              "    <tr>\n",
              "      <th>7</th>\n",
              "      <td>August</td>\n",
              "      <td>13877</td>\n",
              "    </tr>\n",
              "    <tr>\n",
              "      <th>8</th>\n",
              "      <td>April</td>\n",
              "      <td>11089</td>\n",
              "    </tr>\n",
              "    <tr>\n",
              "      <th>9</th>\n",
              "      <td>June</td>\n",
              "      <td>10939</td>\n",
              "    </tr>\n",
              "    <tr>\n",
              "      <th>10</th>\n",
              "      <td>December</td>\n",
              "      <td>6780</td>\n",
              "    </tr>\n",
              "    <tr>\n",
              "      <th>11</th>\n",
              "      <td>September</td>\n",
              "      <td>10508</td>\n",
              "    </tr>\n",
              "  </tbody>\n",
              "</table>\n",
              "</div>\n",
              "    <div class=\"colab-df-buttons\">\n",
              "\n",
              "  <div class=\"colab-df-container\">\n",
              "    <button class=\"colab-df-convert\" onclick=\"convertToInteractive('df-7f99e0d3-3d12-40f2-9bda-90c5fee58e68')\"\n",
              "            title=\"Convert this dataframe to an interactive table.\"\n",
              "            style=\"display:none;\">\n",
              "\n",
              "  <svg xmlns=\"http://www.w3.org/2000/svg\" height=\"24px\" viewBox=\"0 -960 960 960\">\n",
              "    <path d=\"M120-120v-720h720v720H120Zm60-500h600v-160H180v160Zm220 220h160v-160H400v160Zm0 220h160v-160H400v160ZM180-400h160v-160H180v160Zm440 0h160v-160H620v160ZM180-180h160v-160H180v160Zm440 0h160v-160H620v160Z\"/>\n",
              "  </svg>\n",
              "    </button>\n",
              "\n",
              "  <style>\n",
              "    .colab-df-container {\n",
              "      display:flex;\n",
              "      gap: 12px;\n",
              "    }\n",
              "\n",
              "    .colab-df-convert {\n",
              "      background-color: #E8F0FE;\n",
              "      border: none;\n",
              "      border-radius: 50%;\n",
              "      cursor: pointer;\n",
              "      display: none;\n",
              "      fill: #1967D2;\n",
              "      height: 32px;\n",
              "      padding: 0 0 0 0;\n",
              "      width: 32px;\n",
              "    }\n",
              "\n",
              "    .colab-df-convert:hover {\n",
              "      background-color: #E2EBFA;\n",
              "      box-shadow: 0px 1px 2px rgba(60, 64, 67, 0.3), 0px 1px 3px 1px rgba(60, 64, 67, 0.15);\n",
              "      fill: #174EA6;\n",
              "    }\n",
              "\n",
              "    .colab-df-buttons div {\n",
              "      margin-bottom: 4px;\n",
              "    }\n",
              "\n",
              "    [theme=dark] .colab-df-convert {\n",
              "      background-color: #3B4455;\n",
              "      fill: #D2E3FC;\n",
              "    }\n",
              "\n",
              "    [theme=dark] .colab-df-convert:hover {\n",
              "      background-color: #434B5C;\n",
              "      box-shadow: 0px 1px 3px 1px rgba(0, 0, 0, 0.15);\n",
              "      filter: drop-shadow(0px 1px 2px rgba(0, 0, 0, 0.3));\n",
              "      fill: #FFFFFF;\n",
              "    }\n",
              "  </style>\n",
              "\n",
              "    <script>\n",
              "      const buttonEl =\n",
              "        document.querySelector('#df-7f99e0d3-3d12-40f2-9bda-90c5fee58e68 button.colab-df-convert');\n",
              "      buttonEl.style.display =\n",
              "        google.colab.kernel.accessAllowed ? 'block' : 'none';\n",
              "\n",
              "      async function convertToInteractive(key) {\n",
              "        const element = document.querySelector('#df-7f99e0d3-3d12-40f2-9bda-90c5fee58e68');\n",
              "        const dataTable =\n",
              "          await google.colab.kernel.invokeFunction('convertToInteractive',\n",
              "                                                    [key], {});\n",
              "        if (!dataTable) return;\n",
              "\n",
              "        const docLinkHtml = 'Like what you see? Visit the ' +\n",
              "          '<a target=\"_blank\" href=https://colab.research.google.com/notebooks/data_table.ipynb>data table notebook</a>'\n",
              "          + ' to learn more about interactive tables.';\n",
              "        element.innerHTML = '';\n",
              "        dataTable['output_type'] = 'display_data';\n",
              "        await google.colab.output.renderOutput(dataTable, element);\n",
              "        const docLink = document.createElement('div');\n",
              "        docLink.innerHTML = docLinkHtml;\n",
              "        element.appendChild(docLink);\n",
              "      }\n",
              "    </script>\n",
              "  </div>\n",
              "\n",
              "\n",
              "<div id=\"df-ea206088-183d-40f7-89c7-ae9049ef05d1\">\n",
              "  <button class=\"colab-df-quickchart\" onclick=\"quickchart('df-ea206088-183d-40f7-89c7-ae9049ef05d1')\"\n",
              "            title=\"Suggest charts.\"\n",
              "            style=\"display:none;\">\n",
              "\n",
              "<svg xmlns=\"http://www.w3.org/2000/svg\" height=\"24px\"viewBox=\"0 0 24 24\"\n",
              "     width=\"24px\">\n",
              "    <g>\n",
              "        <path d=\"M19 3H5c-1.1 0-2 .9-2 2v14c0 1.1.9 2 2 2h14c1.1 0 2-.9 2-2V5c0-1.1-.9-2-2-2zM9 17H7v-7h2v7zm4 0h-2V7h2v10zm4 0h-2v-4h2v4z\"/>\n",
              "    </g>\n",
              "</svg>\n",
              "  </button>\n",
              "\n",
              "<style>\n",
              "  .colab-df-quickchart {\n",
              "      --bg-color: #E8F0FE;\n",
              "      --fill-color: #1967D2;\n",
              "      --hover-bg-color: #E2EBFA;\n",
              "      --hover-fill-color: #174EA6;\n",
              "      --disabled-fill-color: #AAA;\n",
              "      --disabled-bg-color: #DDD;\n",
              "  }\n",
              "\n",
              "  [theme=dark] .colab-df-quickchart {\n",
              "      --bg-color: #3B4455;\n",
              "      --fill-color: #D2E3FC;\n",
              "      --hover-bg-color: #434B5C;\n",
              "      --hover-fill-color: #FFFFFF;\n",
              "      --disabled-bg-color: #3B4455;\n",
              "      --disabled-fill-color: #666;\n",
              "  }\n",
              "\n",
              "  .colab-df-quickchart {\n",
              "    background-color: var(--bg-color);\n",
              "    border: none;\n",
              "    border-radius: 50%;\n",
              "    cursor: pointer;\n",
              "    display: none;\n",
              "    fill: var(--fill-color);\n",
              "    height: 32px;\n",
              "    padding: 0;\n",
              "    width: 32px;\n",
              "  }\n",
              "\n",
              "  .colab-df-quickchart:hover {\n",
              "    background-color: var(--hover-bg-color);\n",
              "    box-shadow: 0 1px 2px rgba(60, 64, 67, 0.3), 0 1px 3px 1px rgba(60, 64, 67, 0.15);\n",
              "    fill: var(--button-hover-fill-color);\n",
              "  }\n",
              "\n",
              "  .colab-df-quickchart-complete:disabled,\n",
              "  .colab-df-quickchart-complete:disabled:hover {\n",
              "    background-color: var(--disabled-bg-color);\n",
              "    fill: var(--disabled-fill-color);\n",
              "    box-shadow: none;\n",
              "  }\n",
              "\n",
              "  .colab-df-spinner {\n",
              "    border: 2px solid var(--fill-color);\n",
              "    border-color: transparent;\n",
              "    border-bottom-color: var(--fill-color);\n",
              "    animation:\n",
              "      spin 1s steps(1) infinite;\n",
              "  }\n",
              "\n",
              "  @keyframes spin {\n",
              "    0% {\n",
              "      border-color: transparent;\n",
              "      border-bottom-color: var(--fill-color);\n",
              "      border-left-color: var(--fill-color);\n",
              "    }\n",
              "    20% {\n",
              "      border-color: transparent;\n",
              "      border-left-color: var(--fill-color);\n",
              "      border-top-color: var(--fill-color);\n",
              "    }\n",
              "    30% {\n",
              "      border-color: transparent;\n",
              "      border-left-color: var(--fill-color);\n",
              "      border-top-color: var(--fill-color);\n",
              "      border-right-color: var(--fill-color);\n",
              "    }\n",
              "    40% {\n",
              "      border-color: transparent;\n",
              "      border-right-color: var(--fill-color);\n",
              "      border-top-color: var(--fill-color);\n",
              "    }\n",
              "    60% {\n",
              "      border-color: transparent;\n",
              "      border-right-color: var(--fill-color);\n",
              "    }\n",
              "    80% {\n",
              "      border-color: transparent;\n",
              "      border-right-color: var(--fill-color);\n",
              "      border-bottom-color: var(--fill-color);\n",
              "    }\n",
              "    90% {\n",
              "      border-color: transparent;\n",
              "      border-bottom-color: var(--fill-color);\n",
              "    }\n",
              "  }\n",
              "</style>\n",
              "\n",
              "  <script>\n",
              "    async function quickchart(key) {\n",
              "      const quickchartButtonEl =\n",
              "        document.querySelector('#' + key + ' button');\n",
              "      quickchartButtonEl.disabled = true;  // To prevent multiple clicks.\n",
              "      quickchartButtonEl.classList.add('colab-df-spinner');\n",
              "      try {\n",
              "        const charts = await google.colab.kernel.invokeFunction(\n",
              "            'suggestCharts', [key], {});\n",
              "      } catch (error) {\n",
              "        console.error('Error during call to suggestCharts:', error);\n",
              "      }\n",
              "      quickchartButtonEl.classList.remove('colab-df-spinner');\n",
              "      quickchartButtonEl.classList.add('colab-df-quickchart-complete');\n",
              "    }\n",
              "    (() => {\n",
              "      let quickchartButtonEl =\n",
              "        document.querySelector('#df-ea206088-183d-40f7-89c7-ae9049ef05d1 button');\n",
              "      quickchartButtonEl.style.display =\n",
              "        google.colab.kernel.accessAllowed ? 'block' : 'none';\n",
              "    })();\n",
              "  </script>\n",
              "</div>\n",
              "    </div>\n",
              "  </div>\n"
            ]
          },
          "metadata": {},
          "execution_count": 193
        }
      ]
    },
    {
      "cell_type": "code",
      "source": [
        "plt.figure(figsize=(25,6))\n",
        "plt.title(\"Best month for bookings\", fontsize=18)\n",
        "\n",
        "sns.barplot( data=best_month_for_booking, x=\"arrival_date_month\", y=\"count\")"
      ],
      "metadata": {
        "colab": {
          "base_uri": "https://localhost:8080/",
          "height": 483
        },
        "id": "Q7Vb1cwMNFEm",
        "outputId": "ab4d82f5-5c0c-4e35-e814-662de6e33980"
      },
      "execution_count": 194,
      "outputs": [
        {
          "output_type": "execute_result",
          "data": {
            "text/plain": [
              "<Axes: title={'center': 'Best month for bookings'}, xlabel='arrival_date_month', ylabel='count'>"
            ]
          },
          "metadata": {},
          "execution_count": 194
        },
        {
          "output_type": "display_data",
          "data": {
            "text/plain": [
              "<Figure size 2500x600 with 1 Axes>"
            ],
            "image/png": "[encoded data removed]"
          },
          "metadata": {}
        }
      ]
    },
    {
      "cell_type": "markdown",
      "source": [
        "* The August month is the best in term of booking."
      ],
      "metadata": {
        "id": "Xk1NJVBdNla-"
      }
    },
    {
      "cell_type": "code",
      "source": [
        "cancelled_df = df.filter(df[\"is_canceled\"] == 1 )\n",
        "cancelled_df.show()"
      ],
      "metadata": {
        "colab": {
          "base_uri": "https://localhost:8080/"
        },
        "id": "_5-XY_wtNxdN",
        "outputId": "6f42c70c-23d5-47bd-89a7-77b8391f1ac3"
      },
      "execution_count": 195,
      "outputs": [
        {
          "output_type": "stream",
          "name": "stdout",
          "text": [
            "+------------+-----------+---------+-----------------+------------------+------------------------+-------------------------+-----------------------+--------------------+------+--------+------+----+-------+--------------+--------------------+-----------------+----------------------+------------------------------+------------------+------------------+---------------+------------+-----+--------------------+-------------+------+---------------------------+-------------------------+------------------+-----------------------+------+-------+---------+-------------+---------+------+-------+---------+---------+-----------+-------+-------+\n",
            "|       hotel|is_canceled|lead_time|arrival_date_year|arrival_date_month|arrival_date_week_number|arrival_date_day_of_month|stays_in_weekend_nights|stays_in_week_nights|adults|children|babies|meal|country|market_segment|distribution_channel|is_repeated_guest|previous_cancellations|previous_bookings_not_canceled|reserved_room_type|assigned_room_type|booking_changes|deposit_type|agent|days_in_waiting_list|customer_type|   adr|required_car_parking_spaces|total_of_special_requests|reservation_status|reservation_status_date| MO_YR|CPI_AVG|INFLATION|INFLATION_CHG|CSMR_SENT|UNRATE|INTRSRT|      GDP|FUEL_PRCS| CPI_HOTELS|US_GINI|DIS_INC|\n",
            "+------------+-----------+---------+-----------------+------------------+------------------------+-------------------------+-----------------------+--------------------+------+--------+------+----+-------+--------------+--------------------+-----------------+----------------------+------------------------------+------------------+------------------+---------------+------------+-----+--------------------+-------------+------+---------------------------+-------------------------+------------------+-----------------------+------+-------+---------+-------------+---------+------+-------+---------+---------+-----------+-------+-------+\n",
            "|Resort Hotel|          1|       85|             2015|              July|                      27|                        1|                      0|                   3|     2|     0.0|     0|  BB|    PRT|     Online TA|               TA/TO|                0|                     0|                             0|                 A|                 A|              0|  No Deposit|240.0|                   0|    Transient|  82.0|                          0|                        1|          Canceled|             2015-05-06|5-2015|237.001|      1.7|         -0.1|     90.7|   5.4|   0.75|18193.707|    202.6|0.185619641|   41.2|41290.0|\n",
            "|Resort Hotel|          1|       75|             2015|              July|                      27|                        1|                      0|                   3|     2|     0.0|     0|  HB|    PRT| Offline TA/TO|               TA/TO|                0|                     0|                             0|                 D|                 D|              0|  No Deposit| 15.0|                   0|    Transient| 105.5|                          0|                        0|          Canceled|             2015-04-22|4-2015|236.222|      1.8|          0.0|     95.9|   5.4|   0.75|18193.707|    183.8|0.216699359|   41.2|41248.0|\n",
            "|Resort Hotel|          1|       23|             2015|              July|                      27|                        1|                      0|                   4|     2|     0.0|     0|  BB|    PRT|     Online TA|               TA/TO|                0|                     0|                             0|                 E|                 E|              0|  No Deposit|240.0|                   0|    Transient| 123.0|                          0|                        0|          Canceled|             2015-06-23|6-2015|237.657|      1.8|          0.1|     96.1|   5.6|   0.75|18193.707|    198.7| 0.18253402|   41.2|41288.0|\n",
            "|Resort Hotel|          1|       60|             2015|              July|                      27|                        1|                      2|                   5|     2|     0.0|     0|  BB|    PRT|     Online TA|               TA/TO|                0|                     0|                             0|                 E|                 E|              0|  No Deposit|240.0|                   0|    Transient| 107.0|                          0|                        2|          Canceled|             2015-05-11|5-2015|237.001|      1.7|         -0.1|     90.7|   5.4|   0.75|18193.707|    202.6|0.185619641|   41.2|41290.0|\n",
            "|Resort Hotel|          1|       96|             2015|              July|                      27|                        1|                      2|                   8|     2|     0.0|     0|  BB|    PRT|        Direct|              Direct|                0|                     0|                             0|                 E|                 E|              0|  No Deposit|  0.0|                   0|    Transient| 108.3|                          0|                        2|          Canceled|             2015-05-29|5-2015|237.001|      1.7|         -0.1|     90.7|   5.4|   0.75|18193.707|    202.6|0.185619641|   41.2|41290.0|\n",
            "|Resort Hotel|          1|       45|             2015|              July|                      27|                        2|                      1|                   3|     3|     0.0|     0|  BB|    PRT|     Online TA|               TA/TO|                0|                     0|                             0|                 D|                 D|              0|  No Deposit|241.0|                   0|    Transient| 108.8|                          0|                        1|          Canceled|             2015-05-19|5-2015|237.001|      1.7|         -0.1|     90.7|   5.4|   0.75|18193.707|    202.6|0.185619641|   41.2|41290.0|\n",
            "|Resort Hotel|          1|       40|             2015|              July|                      27|                        2|                      1|                   3|     3|     0.0|     0|  BB|    PRT|     Online TA|               TA/TO|                0|                     0|                             0|                 D|                 D|              0|  No Deposit|241.0|                   0|    Transient| 108.8|                          0|                        1|          Canceled|             2015-06-19|6-2015|237.657|      1.8|          0.1|     96.1|   5.6|   0.75|18193.707|    198.7| 0.18253402|   41.2|41288.0|\n",
            "|Resort Hotel|          1|       43|             2015|              July|                      27|                        2|                      1|                   3|     3|     0.0|     0|  BB|    PRT|     Online TA|               TA/TO|                0|                     0|                             0|                 D|                 D|              0|  No Deposit|241.0|                   0|    Transient| 108.8|                          0|                        0|          Canceled|             2015-05-23|5-2015|237.001|      1.7|         -0.1|     90.7|   5.4|   0.75|18193.707|    202.6|0.185619641|   41.2|41290.0|\n",
            "|Resort Hotel|          1|       45|             2015|              July|                      27|                        2|                      2|                   3|     2|     0.0|     0|  BB|    PRT|     Online TA|               TA/TO|                0|                     0|                             0|                 G|                 G|              0|  No Deposit|241.0|                   0|    Transient|117.81|                          0|                        0|          Canceled|             2015-05-18|5-2015|237.001|      1.7|         -0.1|     90.7|   5.4|   0.75|18193.707|    202.6|0.185619641|   41.2|41290.0|\n",
            "|Resort Hotel|          1|       47|             2015|              July|                      27|                        2|                      2|                   5|     2|     2.0|     0|  BB|    PRT|     Online TA|               TA/TO|                0|                     0|                             0|                 G|                 G|              0|  No Deposit|240.0|                   0|    Transient| 153.0|                          0|                        0|          Canceled|             2015-06-02|6-2015|237.657|      1.8|          0.1|     96.1|   5.6|   0.75|18193.707|    198.7| 0.18253402|   41.2|41288.0|\n",
            "|Resort Hotel|          1|        3|             2015|              July|                      27|                        2|                      0|                   3|     2|     0.0|     0|  HB|    PRT|     Online TA|               TA/TO|                0|                     0|                             0|                 A|                 A|              0|  No Deposit|240.0|                   0|    Transient|136.33|                          0|                        2|          Canceled|             2015-06-29|6-2015|237.657|      1.8|          0.1|     96.1|   5.6|   0.75|18193.707|    198.7| 0.18253402|   41.2|41288.0|\n",
            "|Resort Hotel|          1|       71|             2015|              July|                      27|                        3|                      0|                   2|     3|     0.0|     0|  BB|    PRT| Offline TA/TO|               TA/TO|                0|                     0|                             0|                 A|                 A|              0|  No Deposit|242.0|                   0|    Transient| 110.3|                          0|                        2|          Canceled|             2015-06-16|6-2015|237.657|      1.8|          0.1|     96.1|   5.6|   0.75|18193.707|    198.7| 0.18253402|   41.2|41288.0|\n",
            "|Resort Hotel|          1|       63|             2015|              July|                      27|                        3|                      0|                   2|     2|     0.0|     0|  BB|    PRT|     Online TA|               TA/TO|                0|                     0|                             0|                 A|                 A|              0|  No Deposit|240.0|                   0|    Transient|  82.0|                          0|                        2|          Canceled|             2015-06-18|6-2015|237.657|      1.8|          0.1|     96.1|   5.6|   0.75|18193.707|    198.7| 0.18253402|   41.2|41288.0|\n",
            "|Resort Hotel|          1|       62|             2015|              July|                      27|                        3|                      0|                   2|     2|     0.0|     0|  BB|    PRT|     Online TA|               TA/TO|                0|                     0|                             0|                 D|                 D|              0|  No Deposit|240.0|                   0|    Transient|  97.0|                          0|                        1|          Canceled|             2015-07-03|7-2015|238.034|      1.8|          0.0|     93.1|   5.3|   0.75| 18306.96|    194.0|0.187566339|   41.2|41355.0|\n",
            "|Resort Hotel|          1|      101|             2015|              July|                      27|                        3|                      0|                   2|     2|     0.0|     0|  BB|    PRT|     Online TA|               TA/TO|                0|                     0|                             0|                 A|                 A|              0|  No Deposit|240.0|                   0|    Transient|  73.8|                          0|                        1|          Canceled|             2015-06-12|6-2015|237.657|      1.8|          0.1|     96.1|   5.6|   0.75|18193.707|    198.7| 0.18253402|   41.2|41288.0|\n",
            "|Resort Hotel|          1|       51|             2015|              July|                      27|                        3|                      0|                   2|     3|     0.0|     0|  BB|    PRT|     Online TA|               TA/TO|                0|                     0|                             0|                 A|                 A|              0|  No Deposit|242.0|                   0|    Transient| 110.3|                          0|                        0|          Canceled|             2015-06-09|6-2015|237.657|      1.8|          0.1|     96.1|   5.6|   0.75|18193.707|    198.7| 0.18253402|   41.2|41288.0|\n",
            "|Resort Hotel|          1|       48|             2015|              July|                      27|                        3|                      1|                   2|     2|     0.0|     0|  BB|    PRT|     Online TA|               TA/TO|                0|                     0|                             0|                 E|                 E|              0|  No Deposit|240.0|                   0|    Transient| 123.0|                          0|                        0|          Canceled|             2015-05-26|5-2015|237.001|      1.7|         -0.1|     90.7|   5.4|   0.75|18193.707|    202.6|0.185619641|   41.2|41290.0|\n",
            "|Resort Hotel|          1|      368|             2015|              July|                      27|                        3|                      3|                   7|     2|     0.0|     0|  BB|    PRT| Offline TA/TO|               TA/TO|                0|                     0|                             0|                 A|                 A|              0|  No Deposit| 40.0|                   0|     Contract| 55.68|                          0|                        0|          Canceled|             2015-05-19|5-2015|237.001|      1.7|         -0.1|     90.7|   5.4|   0.75|18193.707|    202.6|0.185619641|   41.2|41290.0|\n",
            "|Resort Hotel|          1|       81|             2015|              July|                      27|                        3|                      3|                   7|     2|     0.0|     0|  HB|    PRT|        Direct|              Direct|                0|                     0|                             0|                 A|                 A|              2|  No Deposit|250.0|                   0|    Transient| 124.0|                          0|                        1|          Canceled|             2015-06-09|6-2015|237.657|      1.8|          0.1|     96.1|   5.6|   0.75|18193.707|    198.7| 0.18253402|   41.2|41288.0|\n",
            "|Resort Hotel|          1|       79|             2015|              July|                      27|                        3|                      6|                  15|     2|     1.0|     0|  BB|    PRT| Offline TA/TO|               TA/TO|                0|                     0|                             0|                 A|                 A|              0|  No Deposit|242.0|                   0|    Transient|108.73|                          0|                        2|          Canceled|             2015-04-15|4-2015|236.222|      1.8|          0.0|     95.9|   5.4|   0.75|18193.707|    183.8|0.216699359|   41.2|41248.0|\n",
            "+------------+-----------+---------+-----------------+------------------+------------------------+-------------------------+-----------------------+--------------------+------+--------+------+----+-------+--------------+--------------------+-----------------+----------------------+------------------------------+------------------+------------------+---------------+------------+-----+--------------------+-------------+------+---------------------------+-------------------------+------------------+-----------------------+------+-------+---------+-------------+---------+------+-------+---------+---------+-----------+-------+-------+\n",
            "only showing top 20 rows\n",
            "\n"
          ]
        }
      ]
    },
    {
      "cell_type": "code",
      "source": [
        "cancelled_df = cancelled_df.groupBy(\"arrival_date_month\").agg(f.count(f.col(\"is_canceled\")).alias(\"Cancel_number\"))\n",
        "cancelled_df.show()"
      ],
      "metadata": {
        "colab": {
          "base_uri": "https://localhost:8080/"
        },
        "id": "047bqUCrNxa9",
        "outputId": "a4925142-97f8-46a6-9345-692ca820d79c"
      },
      "execution_count": 196,
      "outputs": [
        {
          "output_type": "stream",
          "name": "stdout",
          "text": [
            "+------------------+-------------+\n",
            "|arrival_date_month|Cancel_number|\n",
            "+------------------+-------------+\n",
            "|              July|         4742|\n",
            "|          November|         2122|\n",
            "|          February|         2696|\n",
            "|           January|         1807|\n",
            "|             March|         3149|\n",
            "|           October|         4246|\n",
            "|               May|         4677|\n",
            "|            August|         5239|\n",
            "|             April|         4524|\n",
            "|              June|         4535|\n",
            "|          December|         2371|\n",
            "|         September|         4116|\n",
            "+------------------+-------------+\n",
            "\n"
          ]
        }
      ]
    },
    {
      "cell_type": "code",
      "source": [
        "cancelled_df = cancelled_df.toPandas()\n",
        "cancelled_df"
      ],
      "metadata": {
        "colab": {
          "base_uri": "https://localhost:8080/",
          "height": 425
        },
        "id": "WNsu3UNOOWUK",
        "outputId": "665fe6bc-d673-483c-8f58-50cb3f0cca82"
      },
      "execution_count": 197,
      "outputs": [
        {
          "output_type": "execute_result",
          "data": {
            "text/plain": [
              "   arrival_date_month  Cancel_number\n",
              "0                July           4742\n",
              "1            November           2122\n",
              "2            February           2696\n",
              "3             January           1807\n",
              "4               March           3149\n",
              "5             October           4246\n",
              "6                 May           4677\n",
              "7              August           5239\n",
              "8               April           4524\n",
              "9                June           4535\n",
              "10           December           2371\n",
              "11          September           4116"
            ],
            "text/html": [
              "\n",
              "  <div id=\"df-b06da00b-f46d-4fd0-a502-19066ddb9e67\" class=\"colab-df-container\">\n",
              "    <div>\n",
              "<style scoped>\n",
              "    .dataframe tbody tr th:only-of-type {\n",
              "        vertical-align: middle;\n",
              "    }\n",
              "\n",
              "    .dataframe tbody tr th {\n",
              "        vertical-align: top;\n",
              "    }\n",
              "\n",
              "    .dataframe thead th {\n",
              "        text-align: right;\n",
              "    }\n",
              "</style>\n",
              "<table border=\"1\" class=\"dataframe\">\n",
              "  <thead>\n",
              "    <tr style=\"text-align: right;\">\n",
              "      <th></th>\n",
              "      <th>arrival_date_month</th>\n",
              "      <th>Cancel_number</th>\n",
              "    </tr>\n",
              "  </thead>\n",
              "  <tbody>\n",
              "    <tr>\n",
              "      <th>0</th>\n",
              "      <td>July</td>\n",
              "      <td>4742</td>\n",
              "    </tr>\n",
              "    <tr>\n",
              "      <th>1</th>\n",
              "      <td>November</td>\n",
              "      <td>2122</td>\n",
              "    </tr>\n",
              "    <tr>\n",
              "      <th>2</th>\n",
              "      <td>February</td>\n",
              "      <td>2696</td>\n",
              "    </tr>\n",
              "    <tr>\n",
              "      <th>3</th>\n",
              "      <td>January</td>\n",
              "      <td>1807</td>\n",
              "    </tr>\n",
              "    <tr>\n",
              "      <th>4</th>\n",
              "      <td>March</td>\n",
              "      <td>3149</td>\n",
              "    </tr>\n",
              "    <tr>\n",
              "      <th>5</th>\n",
              "      <td>October</td>\n",
              "      <td>4246</td>\n",
              "    </tr>\n",
              "    <tr>\n",
              "      <th>6</th>\n",
              "      <td>May</td>\n",
              "      <td>4677</td>\n",
              "    </tr>\n",
              "    <tr>\n",
              "      <th>7</th>\n",
              "      <td>August</td>\n",
              "      <td>5239</td>\n",
              "    </tr>\n",
              "    <tr>\n",
              "      <th>8</th>\n",
              "      <td>April</td>\n",
              "      <td>4524</td>\n",
              "    </tr>\n",
              "    <tr>\n",
              "      <th>9</th>\n",
              "      <td>June</td>\n",
              "      <td>4535</td>\n",
              "    </tr>\n",
              "    <tr>\n",
              "      <th>10</th>\n",
              "      <td>December</td>\n",
              "      <td>2371</td>\n",
              "    </tr>\n",
              "    <tr>\n",
              "      <th>11</th>\n",
              "      <td>September</td>\n",
              "      <td>4116</td>\n",
              "    </tr>\n",
              "  </tbody>\n",
              "</table>\n",
              "</div>\n",
              "    <div class=\"colab-df-buttons\">\n",
              "\n",
              "  <div class=\"colab-df-container\">\n",
              "    <button class=\"colab-df-convert\" onclick=\"convertToInteractive('df-b06da00b-f46d-4fd0-a502-19066ddb9e67')\"\n",
              "            title=\"Convert this dataframe to an interactive table.\"\n",
              "            style=\"display:none;\">\n",
              "\n",
              "  <svg xmlns=\"http://www.w3.org/2000/svg\" height=\"24px\" viewBox=\"0 -960 960 960\">\n",
              "    <path d=\"M120-120v-720h720v720H120Zm60-500h600v-160H180v160Zm220 220h160v-160H400v160Zm0 220h160v-160H400v160ZM180-400h160v-160H180v160Zm440 0h160v-160H620v160ZM180-180h160v-160H180v160Zm440 0h160v-160H620v160Z\"/>\n",
              "  </svg>\n",
              "    </button>\n",
              "\n",
              "  <style>\n",
              "    .colab-df-container {\n",
              "      display:flex;\n",
              "      gap: 12px;\n",
              "    }\n",
              "\n",
              "    .colab-df-convert {\n",
              "      background-color: #E8F0FE;\n",
              "      border: none;\n",
              "      border-radius: 50%;\n",
              "      cursor: pointer;\n",
              "      display: none;\n",
              "      fill: #1967D2;\n",
              "      height: 32px;\n",
              "      padding: 0 0 0 0;\n",
              "      width: 32px;\n",
              "    }\n",
              "\n",
              "    .colab-df-convert:hover {\n",
              "      background-color: #E2EBFA;\n",
              "      box-shadow: 0px 1px 2px rgba(60, 64, 67, 0.3), 0px 1px 3px 1px rgba(60, 64, 67, 0.15);\n",
              "      fill: #174EA6;\n",
              "    }\n",
              "\n",
              "    .colab-df-buttons div {\n",
              "      margin-bottom: 4px;\n",
              "    }\n",
              "\n",
              "    [theme=dark] .colab-df-convert {\n",
              "      background-color: #3B4455;\n",
              "      fill: #D2E3FC;\n",
              "    }\n",
              "\n",
              "    [theme=dark] .colab-df-convert:hover {\n",
              "      background-color: #434B5C;\n",
              "      box-shadow: 0px 1px 3px 1px rgba(0, 0, 0, 0.15);\n",
              "      filter: drop-shadow(0px 1px 2px rgba(0, 0, 0, 0.3));\n",
              "      fill: #FFFFFF;\n",
              "    }\n",
              "  </style>\n",
              "\n",
              "    <script>\n",
              "      const buttonEl =\n",
              "        document.querySelector('#df-b06da00b-f46d-4fd0-a502-19066ddb9e67 button.colab-df-convert');\n",
              "      buttonEl.style.display =\n",
              "        google.colab.kernel.accessAllowed ? 'block' : 'none';\n",
              "\n",
              "      async function convertToInteractive(key) {\n",
              "        const element = document.querySelector('#df-b06da00b-f46d-4fd0-a502-19066ddb9e67');\n",
              "        const dataTable =\n",
              "          await google.colab.kernel.invokeFunction('convertToInteractive',\n",
              "                                                    [key], {});\n",
              "        if (!dataTable) return;\n",
              "\n",
              "        const docLinkHtml = 'Like what you see? Visit the ' +\n",
              "          '<a target=\"_blank\" href=https://colab.research.google.com/notebooks/data_table.ipynb>data table notebook</a>'\n",
              "          + ' to learn more about interactive tables.';\n",
              "        element.innerHTML = '';\n",
              "        dataTable['output_type'] = 'display_data';\n",
              "        await google.colab.output.renderOutput(dataTable, element);\n",
              "        const docLink = document.createElement('div');\n",
              "        docLink.innerHTML = docLinkHtml;\n",
              "        element.appendChild(docLink);\n",
              "      }\n",
              "    </script>\n",
              "  </div>\n",
              "\n",
              "\n",
              "<div id=\"df-fc53ddd8-0669-4445-98ad-d2bb67398960\">\n",
              "  <button class=\"colab-df-quickchart\" onclick=\"quickchart('df-fc53ddd8-0669-4445-98ad-d2bb67398960')\"\n",
              "            title=\"Suggest charts.\"\n",
              "            style=\"display:none;\">\n",
              "\n",
              "<svg xmlns=\"http://www.w3.org/2000/svg\" height=\"24px\"viewBox=\"0 0 24 24\"\n",
              "     width=\"24px\">\n",
              "    <g>\n",
              "        <path d=\"M19 3H5c-1.1 0-2 .9-2 2v14c0 1.1.9 2 2 2h14c1.1 0 2-.9 2-2V5c0-1.1-.9-2-2-2zM9 17H7v-7h2v7zm4 0h-2V7h2v10zm4 0h-2v-4h2v4z\"/>\n",
              "    </g>\n",
              "</svg>\n",
              "  </button>\n",
              "\n",
              "<style>\n",
              "  .colab-df-quickchart {\n",
              "      --bg-color: #E8F0FE;\n",
              "      --fill-color: #1967D2;\n",
              "      --hover-bg-color: #E2EBFA;\n",
              "      --hover-fill-color: #174EA6;\n",
              "      --disabled-fill-color: #AAA;\n",
              "      --disabled-bg-color: #DDD;\n",
              "  }\n",
              "\n",
              "  [theme=dark] .colab-df-quickchart {\n",
              "      --bg-color: #3B4455;\n",
              "      --fill-color: #D2E3FC;\n",
              "      --hover-bg-color: #434B5C;\n",
              "      --hover-fill-color: #FFFFFF;\n",
              "      --disabled-bg-color: #3B4455;\n",
              "      --disabled-fill-color: #666;\n",
              "  }\n",
              "\n",
              "  .colab-df-quickchart {\n",
              "    background-color: var(--bg-color);\n",
              "    border: none;\n",
              "    border-radius: 50%;\n",
              "    cursor: pointer;\n",
              "    display: none;\n",
              "    fill: var(--fill-color);\n",
              "    height: 32px;\n",
              "    padding: 0;\n",
              "    width: 32px;\n",
              "  }\n",
              "\n",
              "  .colab-df-quickchart:hover {\n",
              "    background-color: var(--hover-bg-color);\n",
              "    box-shadow: 0 1px 2px rgba(60, 64, 67, 0.3), 0 1px 3px 1px rgba(60, 64, 67, 0.15);\n",
              "    fill: var(--button-hover-fill-color);\n",
              "  }\n",
              "\n",
              "  .colab-df-quickchart-complete:disabled,\n",
              "  .colab-df-quickchart-complete:disabled:hover {\n",
              "    background-color: var(--disabled-bg-color);\n",
              "    fill: var(--disabled-fill-color);\n",
              "    box-shadow: none;\n",
              "  }\n",
              "\n",
              "  .colab-df-spinner {\n",
              "    border: 2px solid var(--fill-color);\n",
              "    border-color: transparent;\n",
              "    border-bottom-color: var(--fill-color);\n",
              "    animation:\n",
              "      spin 1s steps(1) infinite;\n",
              "  }\n",
              "\n",
              "  @keyframes spin {\n",
              "    0% {\n",
              "      border-color: transparent;\n",
              "      border-bottom-color: var(--fill-color);\n",
              "      border-left-color: var(--fill-color);\n",
              "    }\n",
              "    20% {\n",
              "      border-color: transparent;\n",
              "      border-left-color: var(--fill-color);\n",
              "      border-top-color: var(--fill-color);\n",
              "    }\n",
              "    30% {\n",
              "      border-color: transparent;\n",
              "      border-left-color: var(--fill-color);\n",
              "      border-top-color: var(--fill-color);\n",
              "      border-right-color: var(--fill-color);\n",
              "    }\n",
              "    40% {\n",
              "      border-color: transparent;\n",
              "      border-right-color: var(--fill-color);\n",
              "      border-top-color: var(--fill-color);\n",
              "    }\n",
              "    60% {\n",
              "      border-color: transparent;\n",
              "      border-right-color: var(--fill-color);\n",
              "    }\n",
              "    80% {\n",
              "      border-color: transparent;\n",
              "      border-right-color: var(--fill-color);\n",
              "      border-bottom-color: var(--fill-color);\n",
              "    }\n",
              "    90% {\n",
              "      border-color: transparent;\n",
              "      border-bottom-color: var(--fill-color);\n",
              "    }\n",
              "  }\n",
              "</style>\n",
              "\n",
              "  <script>\n",
              "    async function quickchart(key) {\n",
              "      const quickchartButtonEl =\n",
              "        document.querySelector('#' + key + ' button');\n",
              "      quickchartButtonEl.disabled = true;  // To prevent multiple clicks.\n",
              "      quickchartButtonEl.classList.add('colab-df-spinner');\n",
              "      try {\n",
              "        const charts = await google.colab.kernel.invokeFunction(\n",
              "            'suggestCharts', [key], {});\n",
              "      } catch (error) {\n",
              "        console.error('Error during call to suggestCharts:', error);\n",
              "      }\n",
              "      quickchartButtonEl.classList.remove('colab-df-spinner');\n",
              "      quickchartButtonEl.classList.add('colab-df-quickchart-complete');\n",
              "    }\n",
              "    (() => {\n",
              "      let quickchartButtonEl =\n",
              "        document.querySelector('#df-fc53ddd8-0669-4445-98ad-d2bb67398960 button');\n",
              "      quickchartButtonEl.style.display =\n",
              "        google.colab.kernel.accessAllowed ? 'block' : 'none';\n",
              "    })();\n",
              "  </script>\n",
              "</div>\n",
              "    </div>\n",
              "  </div>\n"
            ]
          },
          "metadata": {},
          "execution_count": 197
        }
      ]
    },
    {
      "cell_type": "code",
      "source": [
        "plt.figure(figsize=(25,6))\n",
        "plt.title(\"worst month for booking cancelled\", fontsize=18)\n",
        "\n",
        "sns.barplot( data=cancelled_df, x=\"arrival_date_month\", y=\"Cancel_number\")"
      ],
      "metadata": {
        "colab": {
          "base_uri": "https://localhost:8080/",
          "height": 485
        },
        "id": "L9ikTjwqOWRQ",
        "outputId": "656cfebf-e3b8-4aa4-ae4e-ad28a573cb1f"
      },
      "execution_count": 198,
      "outputs": [
        {
          "output_type": "execute_result",
          "data": {
            "text/plain": [
              "<Axes: title={'center': 'worst month for booking cancelled'}, xlabel='arrival_date_month', ylabel='Cancel_number'>"
            ]
          },
          "metadata": {},
          "execution_count": 198
        },
        {
          "output_type": "display_data",
          "data": {
            "text/plain": [
              "<Figure size 2500x600 with 1 Axes>"
            ],
            "image/png": "[encoded data removed]"
          },
          "metadata": {}
        }
      ]
    },
    {
      "cell_type": "markdown",
      "source": [
        "* The August month is the worst month as well"
      ],
      "metadata": {
        "id": "jabPZjqcO67O"
      }
    },
    {
      "cell_type": "markdown",
      "source": [
        "# What is the overall cancellation rate for the resort hotel and how does it compare to the city hotel?"
      ],
      "metadata": {
        "id": "jHOuevguPn42"
      }
    },
    {
      "cell_type": "code",
      "source": [
        "cancellation_rate = df.select(\"hotel\")\n",
        "cancellation_rate.show()"
      ],
      "metadata": {
        "colab": {
          "base_uri": "https://localhost:8080/"
        },
        "id": "XWi0aRyqOWOo",
        "outputId": "a70dba10-9432-4fb4-a345-4ff013f5f14c"
      },
      "execution_count": 199,
      "outputs": [
        {
          "output_type": "stream",
          "name": "stdout",
          "text": [
            "+------------+\n",
            "|       hotel|\n",
            "+------------+\n",
            "|Resort Hotel|\n",
            "|Resort Hotel|\n",
            "|Resort Hotel|\n",
            "|Resort Hotel|\n",
            "|Resort Hotel|\n",
            "|Resort Hotel|\n",
            "|Resort Hotel|\n",
            "|Resort Hotel|\n",
            "|Resort Hotel|\n",
            "|Resort Hotel|\n",
            "|Resort Hotel|\n",
            "|Resort Hotel|\n",
            "|Resort Hotel|\n",
            "|Resort Hotel|\n",
            "|Resort Hotel|\n",
            "|Resort Hotel|\n",
            "|Resort Hotel|\n",
            "|Resort Hotel|\n",
            "|Resort Hotel|\n",
            "|Resort Hotel|\n",
            "+------------+\n",
            "only showing top 20 rows\n",
            "\n"
          ]
        }
      ]
    },
    {
      "cell_type": "code",
      "source": [
        "cancellation_rate = cancellation_rate.groupBy(f.col(\"Hotel\")).count()\n",
        "cancellation_rate.show()"
      ],
      "metadata": {
        "colab": {
          "base_uri": "https://localhost:8080/"
        },
        "id": "ECUna1boOWMI",
        "outputId": "4ef345f9-a9e2-4609-a739-e77c68cca9ae"
      },
      "execution_count": 200,
      "outputs": [
        {
          "output_type": "stream",
          "name": "stdout",
          "text": [
            "+------------+-----+\n",
            "|       Hotel|count|\n",
            "+------------+-----+\n",
            "|  City Hotel|79330|\n",
            "|Resort Hotel|40060|\n",
            "+------------+-----+\n",
            "\n"
          ]
        }
      ]
    },
    {
      "cell_type": "code",
      "source": [
        "cancellation_rate_pd = cancellation_rate.toPandas()"
      ],
      "metadata": {
        "id": "CiojbTfPOWJx"
      },
      "execution_count": 201,
      "outputs": []
    },
    {
      "cell_type": "code",
      "source": [
        "cancellation_rate_pd.plot(kind='pie', x='Hotel', y=\"count\" ,autopct='%1.1f%%', startangle=140, figsize=(25,10) )"
      ],
      "metadata": {
        "colab": {
          "base_uri": "https://localhost:8080/",
          "height": 825
        },
        "id": "SEvDWDO3OWHJ",
        "outputId": "4bfb8d78-8f45-476e-a0dd-756226d32a78"
      },
      "execution_count": 202,
      "outputs": [
        {
          "output_type": "execute_result",
          "data": {
            "text/plain": [
              "<Axes: ylabel='count'>"
            ]
          },
          "metadata": {},
          "execution_count": 202
        },
        {
          "output_type": "display_data",
          "data": {
            "text/plain": [
              "<Figure size 2500x1000 with 1 Axes>"
            ],
            "image/png": "[encoded data removed]"
          },
          "metadata": {}
        }
      ]
    },
    {
      "cell_type": "code",
      "source": [
        "cencelled_df = df.select(\"hotel\", \"is_canceled\")\n",
        "cencelled_df.show()"
      ],
      "metadata": {
        "colab": {
          "base_uri": "https://localhost:8080/"
        },
        "id": "WnCcLkgmOWEm",
        "outputId": "f6e0b9c4-6fff-4400-c4e6-1fed38bac59f"
      },
      "execution_count": 203,
      "outputs": [
        {
          "output_type": "stream",
          "name": "stdout",
          "text": [
            "+------------+-----------+\n",
            "|       hotel|is_canceled|\n",
            "+------------+-----------+\n",
            "|Resort Hotel|          0|\n",
            "|Resort Hotel|          0|\n",
            "|Resort Hotel|          0|\n",
            "|Resort Hotel|          0|\n",
            "|Resort Hotel|          0|\n",
            "|Resort Hotel|          0|\n",
            "|Resort Hotel|          0|\n",
            "|Resort Hotel|          0|\n",
            "|Resort Hotel|          1|\n",
            "|Resort Hotel|          1|\n",
            "|Resort Hotel|          1|\n",
            "|Resort Hotel|          0|\n",
            "|Resort Hotel|          0|\n",
            "|Resort Hotel|          0|\n",
            "|Resort Hotel|          0|\n",
            "|Resort Hotel|          0|\n",
            "|Resort Hotel|          0|\n",
            "|Resort Hotel|          0|\n",
            "|Resort Hotel|          0|\n",
            "|Resort Hotel|          0|\n",
            "+------------+-----------+\n",
            "only showing top 20 rows\n",
            "\n"
          ]
        }
      ]
    },
    {
      "cell_type": "code",
      "source": [
        "len_of_Resort_Hote = df.filter(df[\"Hotel\"] == \"Resort Hotel\").count()\n",
        "len_of_City_Hote = df.filter(df[\"Hotel\"] == \"City Hotel\").count()"
      ],
      "metadata": {
        "id": "jWZkAV8nOWB3"
      },
      "execution_count": 204,
      "outputs": []
    },
    {
      "cell_type": "code",
      "source": [
        "len_of_Resort_Hote"
      ],
      "metadata": {
        "colab": {
          "base_uri": "https://localhost:8080/"
        },
        "id": "vuL3OpfVOV_W",
        "outputId": "6cefc505-c52b-4ff6-a9a2-70d5e6a6cbe4"
      },
      "execution_count": 205,
      "outputs": [
        {
          "output_type": "execute_result",
          "data": {
            "text/plain": [
              "40060"
            ]
          },
          "metadata": {},
          "execution_count": 205
        }
      ]
    },
    {
      "cell_type": "code",
      "source": [
        "len_of_City_Hote"
      ],
      "metadata": {
        "colab": {
          "base_uri": "https://localhost:8080/"
        },
        "id": "pLM2aD5gOV8m",
        "outputId": "86bf1905-66f1-4e8e-fb28-aa0e855a0666"
      },
      "execution_count": 206,
      "outputs": [
        {
          "output_type": "execute_result",
          "data": {
            "text/plain": [
              "79330"
            ]
          },
          "metadata": {},
          "execution_count": 206
        }
      ]
    },
    {
      "cell_type": "code",
      "source": [
        "# Calculate the cancellation rate for the resort hotel\n",
        "resort_cancellation_rate = df.filter(df[\"hotel\"] == \"Resort Hotel\") \\\n",
        "    .select(f.sum(f.col('is_canceled')).alias('sum')) \\\n",
        "    .collect()[0]['sum']  # Collect the result and get the 'sum' value\n",
        "\n",
        "# Calculate the total number of bookings for the resort hotel\n",
        "len_of_resort_hotel = df.filter(df[\"hotel\"] == \"Resort Hotel\").count()\n",
        "\n",
        "# Calculate the cancellation rate as a percentage\n",
        "resort_cancellation_rate_percentage = (resort_cancellation_rate / len_of_resort_hotel) * 100\n",
        "\n",
        "# Print the cancellation rate\n",
        "print(f\"Resort Hotel Cancellation Rate: {resort_cancellation_rate_percentage:.2f}%\")\n"
      ],
      "metadata": {
        "colab": {
          "base_uri": "https://localhost:8080/"
        },
        "id": "io_A7Pv6TUl6",
        "outputId": "c2962999-0d19-49f8-c189-8d73cc511992"
      },
      "execution_count": 207,
      "outputs": [
        {
          "output_type": "stream",
          "name": "stdout",
          "text": [
            "Resort Hotel Cancellation Rate: 27.76%\n"
          ]
        }
      ]
    },
    {
      "cell_type": "code",
      "source": [
        "# Calculate the cancellation rate for the City hotel\n",
        "city_cancellation_rate = df.filter(df[\"hotel\"] == \"City Hotel\") \\\n",
        "    .select(f.sum(f.col('is_canceled')).alias('sum')) \\\n",
        "    .collect()[0]['sum']  # Collect the result and get the 'sum' value\n",
        "\n",
        "# Calculate the total number of bookings for the City hotel\n",
        "len_of_City_hotel = df.filter(df[\"hotel\"] == \"City Hotel\").count()\n",
        "\n",
        "# Calculate the cancellation rate as a percentage\n",
        "City_cancellation_rate_percentage = (city_cancellation_rate / len_of_City_Hote) * 100\n",
        "\n",
        "# Print the cancellation rate\n",
        "print(f\"City Hotel Cancellation Rate: {City_cancellation_rate_percentage:.2f}%\")\n"
      ],
      "metadata": {
        "colab": {
          "base_uri": "https://localhost:8080/"
        },
        "id": "XvYHCDo0TUjK",
        "outputId": "9126fd09-ac85-41e6-d630-560ec726c2cc"
      },
      "execution_count": 208,
      "outputs": [
        {
          "output_type": "stream",
          "name": "stdout",
          "text": [
            "City Hotel Cancellation Rate: 41.73%\n"
          ]
        }
      ]
    },
    {
      "cell_type": "markdown",
      "source": [
        "# Can you identify any correlations between economic indicators (e.g., GDP, unemployment rate) and the number of bookings or cancellations in the dataset?"
      ],
      "metadata": {
        "id": "y7YmJnIrXptc"
      }
    },
    {
      "cell_type": "code",
      "source": [],
      "metadata": {
        "id": "12r6Ut_QXpMc"
      },
      "execution_count": null,
      "outputs": []
    },
    {
      "cell_type": "code",
      "source": [],
      "metadata": {
        "id": "Sv80ugU_XpJr"
      },
      "execution_count": null,
      "outputs": []
    },
    {
      "cell_type": "code",
      "source": [],
      "metadata": {
        "id": "EXoqfCPeXpG6"
      },
      "execution_count": null,
      "outputs": []
    },
    {
      "cell_type": "code",
      "source": [],
      "metadata": {
        "id": "F3X2BLSxXpEk"
      },
      "execution_count": null,
      "outputs": []
    }
  ],
  "metadata": {
    "colab": {
      "provenance": [],
      "mount_file_id": "1vorzhgRLmzBogiO7CgVVTZMO_fOIaMNk",
      "authorship_tag": "ABX9TyOEGrNF8G/kaCYezjBNqnmV",
      "include_colab_link": true
    },
    "kernelspec": {
      "display_name": "Python 3",
      "name": "python3"
    },
    "language_info": {
      "name": "python"
    }
  },
  "nbformat": 4,
  "nbformat_minor": 0
}